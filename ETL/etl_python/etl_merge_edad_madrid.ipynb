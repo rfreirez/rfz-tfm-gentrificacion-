{
 "cells": [
  {
   "cell_type": "code",
   "execution_count": 19,
   "id": "7ea3b4af-27d5-4e79-a4cb-d0f987e22aec",
   "metadata": {},
   "outputs": [],
   "source": [
    "import pandas as pd"
   ]
  },
  {
   "cell_type": "code",
   "execution_count": 20,
   "id": "a890bec1-8721-46fa-9067-d770ac135240",
   "metadata": {},
   "outputs": [],
   "source": [
    "#Lectura de excel edades_2021.xls\n",
    "dfEdad2018 = pd.read_excel('../../data_preprocesada_N1/edad_madrid_2018.xls.xls', sheet_name=0)\n",
    "dfEdad2019 = pd.read_excel('../../data_preprocesada_N1/edad_madrid_2019.xls.xls', sheet_name=0)\n",
    "dfEdad2020 = pd.read_excel('../../data_preprocesada_N1/edad_madrid_2020.xls.xls', sheet_name=0)\n",
    "dfEdad2021 = pd.read_excel('../../data_preprocesada_N1/edad_madrid_2021.xlsx', sheet_name=0)\n",
    "dfEdad2021 = dfEdad2021.rename(columns = {'Edad': 'RANGO_EDADES'}, inplace = False)\n",
    "# Cambio de nombre en categorías de edad\n",
    "dfEdad2018.loc[dfEdad2018['RANGO_EDADES'] == 'DE 0 A 14',  'RANGO_EDADES'] = '0-14'\n",
    "dfEdad2018.loc[dfEdad2018['RANGO_EDADES'] == 'DE 15 A 29', 'RANGO_EDADES'] = '15-29'\n",
    "dfEdad2018.loc[dfEdad2018['RANGO_EDADES'] == 'DE 30 A 44', 'RANGO_EDADES'] = '30-44'\n",
    "dfEdad2018.loc[dfEdad2018['RANGO_EDADES'] == 'DE 45 A 64', 'RANGO_EDADES'] = '45-64'\n",
    "dfEdad2018.loc[dfEdad2018['RANGO_EDADES'] == 'DE 65 A 79', 'RANGO_EDADES'] = '65-79'\n",
    "dfEdad2018.loc[dfEdad2018['RANGO_EDADES'] == 'DE 80 Y +',  'RANGO_EDADES'] = '80-MÁS'\n",
    "\n",
    "dfEdad2019.loc[dfEdad2019['RANGO_EDADES'] == 'DE 0 A 14',  'RANGO_EDADES'] = '0-14'\n",
    "dfEdad2019.loc[dfEdad2019['RANGO_EDADES'] == 'DE 15 A 29', 'RANGO_EDADES'] = '15-29'\n",
    "dfEdad2019.loc[dfEdad2019['RANGO_EDADES'] == 'DE 30 A 44', 'RANGO_EDADES'] = '30-44'\n",
    "dfEdad2019.loc[dfEdad2019['RANGO_EDADES'] == 'DE 45 A 64', 'RANGO_EDADES'] = '45-64'\n",
    "dfEdad2019.loc[dfEdad2019['RANGO_EDADES'] == 'DE 65 A 79', 'RANGO_EDADES'] = '65-79'\n",
    "dfEdad2019.loc[dfEdad2019['RANGO_EDADES'] == 'DE 80 Y +',  'RANGO_EDADES'] = '80-MÁS'\n",
    "\n",
    "dfEdad2020.loc[dfEdad2020['RANGO_EDADES'] == 'DE 0 A 14',  'RANGO_EDADES'] = '0-14'\n",
    "dfEdad2020.loc[dfEdad2020['RANGO_EDADES'] == 'DE 15 A 29', 'RANGO_EDADES'] = '15-29'\n",
    "dfEdad2020.loc[dfEdad2020['RANGO_EDADES'] == 'DE 30 A 44', 'RANGO_EDADES'] = '30-44'\n",
    "dfEdad2020.loc[dfEdad2020['RANGO_EDADES'] == 'DE 45 A 64', 'RANGO_EDADES'] = '45-64'\n",
    "dfEdad2020.loc[dfEdad2020['RANGO_EDADES'] == 'DE 65 A 79', 'RANGO_EDADES'] = '65-79'\n",
    "dfEdad2020.loc[dfEdad2020['RANGO_EDADES'] == 'DE 80 Y +',  'RANGO_EDADES'] = '80-MÁS'\n",
    "\n",
    "#Array de Dataframes\n",
    "frames = [dfEdad2018, dfEdad2019, dfEdad2020, dfEdad2021]\n",
    "\n",
    "# Unir dataframes\n",
    "result = pd.concat(frames)\n",
    "\n",
    "result.to_excel(\"../../data_preprocesada_N2/edades.xlsx\")\n"
   ]
  },
  {
   "cell_type": "code",
   "execution_count": null,
   "id": "a85b0990-76bb-4591-b195-5210879a09b6",
   "metadata": {},
   "outputs": [],
   "source": []
  },
  {
   "cell_type": "code",
   "execution_count": null,
   "id": "3d13a854-98c1-478d-bdc0-705f3eedb9b6",
   "metadata": {},
   "outputs": [],
   "source": []
  }
 ],
 "metadata": {
  "kernelspec": {
   "display_name": "Python 3 (ipykernel)",
   "language": "python",
   "name": "python3"
  },
  "language_info": {
   "codemirror_mode": {
    "name": "ipython",
    "version": 3
   },
   "file_extension": ".py",
   "mimetype": "text/x-python",
   "name": "python",
   "nbconvert_exporter": "python",
   "pygments_lexer": "ipython3",
   "version": "3.9.7"
  }
 },
 "nbformat": 4,
 "nbformat_minor": 5
}
