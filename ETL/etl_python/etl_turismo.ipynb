{
 "cells": [
  {
   "cell_type": "code",
   "execution_count": 40,
   "id": "52090ad0-56de-473c-9006-dd2dcd2707c3",
   "metadata": {},
   "outputs": [],
   "source": [
    "import pandas as pd"
   ]
  },
  {
   "cell_type": "code",
   "execution_count": 105,
   "id": "b8998091-2ca9-4f2c-a2cb-7b9a0baea6c3",
   "metadata": {},
   "outputs": [
    {
     "name": "stdout",
     "output_type": "stream",
     "text": [
      "             ID          BARRIO   LATITUD  LONGITUD        CATEGORIA    ANIO\n",
      "0          6369  HISPANOAMÉRICA  40.45628  -3.67763     PRIVATE ROOM  2019.0\n",
      "1         21853        CÁRMENES  40.40341  -3.74084     PRIVATE ROOM  2018.0\n",
      "3         24836        JUSTICIA  40.41995  -3.69764  ENTIRE HOME/APT  2019.0\n",
      "4         26825         LEGAZPI  40.38985  -3.69011     PRIVATE ROOM  2019.0\n",
      "5         30320             SOL  40.41552  -3.70346  ENTIRE HOME/APT  2019.0\n",
      "...         ...             ...       ...       ...              ...     ...\n",
      "20720  38593197        PORTAZGO  40.38460  -3.65037  ENTIRE HOME/APT  2019.0\n",
      "20730  38602421      GAZTAMBIDE  40.43574  -3.71222      SHARED ROOM  2019.0\n",
      "20743  38618159          OPAÑEL  40.39072  -3.72329  ENTIRE HOME/APT  2019.0\n",
      "20788  38674740         PALACIO  40.41250  -3.71472  ENTIRE HOME/APT  2019.0\n",
      "20807  38698095      SAN ANDRÉS  40.31948  -3.70278     PRIVATE ROOM  2019.0\n",
      "\n",
      "[15113 rows x 6 columns]\n"
     ]
    }
   ],
   "source": [
    "dfHospedaje = pd.read_csv('../../original_data/kaggle/listings.csv')\n",
    "dfHospedaje['ANIO'] = pd.to_datetime(dfHospedaje['last_review']).dt.year\n",
    "dfHospedaje = dfHospedaje[['id','neighbourhood','latitude', 'longitude', 'room_type', 'ANIO']]\n",
    "\n",
    "dfHospedaje = dfHospedaje.rename(columns = {'id': 'ID',\n",
    "                                  'neighbourhood': 'BARRIO',\n",
    "                                  'latitude': 'LATITUD',\n",
    "                                  'longitude': 'LONGITUD',\n",
    "                                  'room_type': 'CATEGORIA'}, inplace = False)\n",
    "# Todo mayuscula\n",
    "dfHospedaje['BARRIO'] = dfHospedaje['BARRIO'].str.upper()\n",
    "dfHospedaje['CATEGORIA'] = dfHospedaje['CATEGORIA'].str.upper()\n",
    "\n",
    "# Elimina valores NA en el campo fecha\n",
    "dfHospedaje = dfHospedaje.dropna()\n",
    "\n",
    "# Filtra anios desde el 2017\n",
    "dfHospedaje = dfHospedaje[dfHospedaje['ANIO'] > 2017]\n",
    "\n",
    "# Verifica datos duplicados\n",
    "dfHospedajeDeleteDuplicados = dfHospedaje[dfHospedaje.duplicated(['LATITUD', 'LONGITUD'])]\n",
    "\n",
    "# Elimina datos duplicados\n",
    "dfHospedaje.drop(dfHospedaje[dfHospedaje['ID'] == 17453051 ].index, inplace = True)\n",
    "dfHospedaje.drop(dfHospedaje[dfHospedaje['ID'] == 17809905 ].index, inplace = True)\n",
    "dfHospedaje.drop(dfHospedaje[dfHospedaje['ID'] == 20011461 ].index, inplace = True)\n",
    "dfHospedaje.drop(dfHospedaje[dfHospedaje['ID'] == 22312525 ].index, inplace = True)\n",
    "dfHospedaje.drop(dfHospedaje[dfHospedaje['ID'] == 23576224 ].index, inplace = True)\n",
    "dfHospedaje.drop(dfHospedaje[dfHospedaje['ID'] == 35217403 ].index, inplace = True)\n",
    "dfHospedaje.drop(dfHospedaje[dfHospedaje['ID'] == 38310467 ].index, inplace = True)\n",
    "\n",
    "print(dfHospedaje)\n",
    "\n",
    "dfHospedaje.to_excel(\"../../data_preprocesada_N1/hospedaje.xlsx\")\n",
    "\n"
   ]
  },
  {
   "cell_type": "code",
   "execution_count": 106,
   "id": "fdad1be4-e0bf-4a0c-b82b-f3c94df681be",
   "metadata": {},
   "outputs": [],
   "source": [
    "# df = pd.read_csv('../../original_data/kaggle/listings.csv')\n",
    "# df['yyyy'] = pd.to_datetime(df['last_review']).dt.year\n",
    "# df = df[['name','neighbourhood','latitude', 'longitude', 'yyyy']]\n",
    "# # df['yyyy'] = pd.to_datetime(df['last_review']).dt.year\n",
    "# # df.isnull().sum()\n",
    "# df = df.groupby(['yyyy','neighbourhood','name','latitude','longitude']).count()\n",
    "# df"
   ]
  },
  {
   "cell_type": "code",
   "execution_count": null,
   "id": "cfa87537-9c27-4324-957a-2f93fa8e2974",
   "metadata": {},
   "outputs": [],
   "source": []
  }
 ],
 "metadata": {
  "kernelspec": {
   "display_name": "Python 3 (ipykernel)",
   "language": "python",
   "name": "python3"
  },
  "language_info": {
   "codemirror_mode": {
    "name": "ipython",
    "version": 3
   },
   "file_extension": ".py",
   "mimetype": "text/x-python",
   "name": "python",
   "nbconvert_exporter": "python",
   "pygments_lexer": "ipython3",
   "version": "3.9.7"
  }
 },
 "nbformat": 4,
 "nbformat_minor": 5
}
