{
 "cells": [
  {
   "cell_type": "markdown",
   "id": "2cfcacb7-2932-49ad-9327-f4809643a24a",
   "metadata": {
    "tags": []
   },
   "source": [
    "# Extracción de datos"
   ]
  },
  {
   "cell_type": "markdown",
   "id": "86fef7f5-02f4-4397-b032-eda9dfd199ad",
   "metadata": {},
   "source": [
    "En esta sección se extraerá los datos de la URL citada a continuación. Los indicadores tomados en cuenta son: \n",
    "* Edad de la población\n",
    "* Renta Media\n",
    "* Niveles de Educación\n",
    "* Extranjeros\n",
    "* Tamaño medio del Hogar\n",
    "* Número de Desempleados\n",
    "> https://datos.madrid.es/portal/site/egob/menuitem.c05c1f754a33a9fbe4b2e4b284f1a5a0/?vgnextoid=71359583a773a510VgnVCM2000001f4a900aRCRD&vgnextchannel=374512b9ace9f310VgnVCM100000171f5a0aRCRD&vgnextfmt=default*"
   ]
  },
  {
   "cell_type": "code",
   "execution_count": 122,
   "id": "b2d5ce06-d19b-4b7e-87d2-7561ce5944c9",
   "metadata": {},
   "outputs": [],
   "source": [
    "import pandas as pd"
   ]
  },
  {
   "cell_type": "code",
   "execution_count": 123,
   "id": "50fd9fd5-61f9-493b-a2e0-7dd7d31c3e18",
   "metadata": {},
   "outputs": [],
   "source": [
    "# Función Genérica para iterar fuente \n",
    "# Lectura iterativa de excel\n",
    "def iteracion_callback(contYear, indicadorName, contadorInicial, contadorFinal, unidad): \n",
    "    sheetNamesLst=['CENTRO', 'ARGANZUELA', 'RETIRO', 'SALAMANCA', 'CHAMARTÍN', 'TETUÁN', 'CHAMBERÍ', 'FUENCARRAL-EL PARDO','MONCLOA-ARAVACA', 'LATINA', 'CARABANCHEL', 'USERA', 'PUENTE DE VALLECAS', 'MORATALAZ', 'CIUDAD LINEAL', 'HORTALEZA', 'VILLAVERDE', 'VILLA DE VALLECAS', 'VICÁLVARO','SAN BLAS-CANILLEJAS','BARAJAS']\n",
    "    arrayFullEdad = []\n",
    "    dfPreProcesadoFull = pd.DataFrame()\n",
    "    # Itera Paginas del excel\n",
    "    for x, nameSheet in enumerate(sheetNamesLst):   \n",
    "        dfAux = pd.DataFrame()\n",
    "        df2 = pd.DataFrame()        \n",
    "        #Lectura de excel\n",
    "        fileName = ''\n",
    "        fileName = '../../original_data/panel_indicadores_distritos_barrios_' + str(contYear) + '.xls'\n",
    "        df = pd.read_excel(fileName, \n",
    "                           sheet_name=nameSheet, \n",
    "                           skiprows= 1)\n",
    "        # Se posiciona en filas de edad en caso de la \n",
    "        # última página seteamos el número de columnas a leer por existir \n",
    "        # más columnas basura\n",
    "        if x == 20 :\n",
    "            dfAux=df.iloc[contadorInicial:contadorInicial+contadorFinal, 0:16]            \n",
    "        else:\n",
    "            dfAux=df.iloc[contadorInicial:contadorInicial+contadorFinal]            \n",
    "\n",
    "        dfAux.reset_index(inplace=True, drop=True)\n",
    "        \n",
    "        columnasNombre = []\n",
    "        contadorFor=0\n",
    "        # Itera columnas para controlar celdas combinadas\n",
    "        for col in dfAux.columns:\n",
    "            if contadorFor == 0 :\n",
    "                newCol = indicadorName\n",
    "            elif contadorFor % 2 == 0:\n",
    "                newCol = nomColAux.upper()\n",
    "            else :\n",
    "                newCol = 'GT_' + col\n",
    "            columnasNombre.append(newCol)\n",
    "            nomColAux = col\n",
    "            contadorFor = contadorFor + 1\n",
    "        # Se coloca los nuevos nombres de columnas\n",
    "        dfAux.columns = columnasNombre\n",
    "        \n",
    "        indexColumnasBorrar = []\n",
    "        contadorColumnas = 0\n",
    "        # Obtener indices de las columnas para ser borradas las de porcentaje\n",
    "        for row in columnasNombre:\n",
    "            if contadorColumnas % 2 != 0 :\n",
    "                indexColumnasBorrar.append(contadorColumnas)\n",
    "            contadorColumnas = contadorColumnas + 1\n",
    "        dfAux.drop(dfAux.columns[indexColumnasBorrar], axis = 1, inplace=True)\n",
    "        dfAux.drop(dfAux.columns[[1]], axis = 1, inplace=True)\n",
    "        \n",
    "        # Pasar columnas como valores del dataframe bajo el campo Barrios\n",
    "        df2 = pd.melt(dfAux, id_vars=[indicadorName], \n",
    "                      var_name=\"BARRIOS\", value_name=unidad)\n",
    "        # Strings a mayúsculas\n",
    "        df2.columns = df2.columns.str.upper()\n",
    "        # Colocamos el anio correspodniente\n",
    "        df2['ANIO'] = contYear\n",
    "        \n",
    "        arrayFullEdad.append(df2)\n",
    "        \n",
    "    dfPreProcesadoFull = pd.concat(arrayFullEdad)                \n",
    "    \n",
    "    return dfPreProcesadoFull"
   ]
  },
  {
   "cell_type": "markdown",
   "id": "fd9f677b-3993-4d64-bb6a-4ad63824c4e6",
   "metadata": {},
   "source": [
    "## Edad de la población periodo 2016, 2018, 2020"
   ]
  },
  {
   "cell_type": "code",
   "execution_count": 124,
   "id": "97be618a-16e1-4f43-a48e-5492a5b8d6d5",
   "metadata": {},
   "outputs": [
    {
     "name": "stderr",
     "output_type": "stream",
     "text": [
      "/Users/renangfz/opt/anaconda3/lib/python3.9/site-packages/pandas/core/frame.py:4906: SettingWithCopyWarning: \n",
      "A value is trying to be set on a copy of a slice from a DataFrame\n",
      "\n",
      "See the caveats in the documentation: https://pandas.pydata.org/pandas-docs/stable/user_guide/indexing.html#returning-a-view-versus-a-copy\n",
      "  return super().drop(\n"
     ]
    }
   ],
   "source": [
    "# Dataset Nivel 1\n",
    "anio_indicador = 2016\n",
    "dfEdad2016 = iteracion_callback(anio_indicador, 'RANGO_EDAD', 7, 6, 'NRO_PERSONAS')\n",
    "dfEdad2016.to_excel(\"../../data_preprocesada_N1/edad_población_\" + str(anio_indicador) + \".xlsx\")\n",
    "\n",
    "anio_indicador = 2018\n",
    "dfEdad2018 = iteracion_callback(anio_indicador, 'RANGO_EDAD', 9, 6, 'NRO_PERSONAS')\n",
    "dfEdad2018.to_excel(\"../../data_preprocesada_N1/edad_población_\" + str(anio_indicador) + \".xlsx\")\n",
    "\n",
    "anio_indicador = 2020\n",
    "dfEdad2020 = iteracion_callback(anio_indicador, 'RANGO_EDAD', 9, 6, 'NRO_PERSONAS')\n",
    "dfEdad2020.to_excel(\"../../data_preprocesada_N1/edad_población_\" + str(anio_indicador) + \".xlsx\")\n",
    "\n",
    "# Dataset Nivel 2\n",
    "finalDataset = pd.DataFrame()\n",
    "lstFrames = [dfEdad2016, dfEdad2018, dfEdad2020]\n",
    "finalDataset = pd.concat(lstFrames)\n",
    "finalDataset.to_excel(\"../../data_preprocesada_N2/edad_barrios_madrid.xlsx\")\n"
   ]
  },
  {
   "cell_type": "markdown",
   "id": "1144fc36-c896-4b2a-82e4-a3e8e962520a",
   "metadata": {},
   "source": [
    "## Renta neta media anual de la población periodo 2016, 2018, 2020"
   ]
  },
  {
   "cell_type": "code",
   "execution_count": 125,
   "id": "6c788cc0-b7fa-47e6-9257-f35c5743ddb3",
   "metadata": {},
   "outputs": [],
   "source": [
    "# Dataset Nivel 1\n",
    "anio_indicador = 2016\n",
    "dfRenta2016 = iteracion_callback(anio_indicador, 'INDICADOR', 40, 1, 'RENTA_MEDIA')\n",
    "dfRenta2016.to_excel(\"../../data_preprocesada_N1/renta_neta_media_población_\" + str(anio_indicador) + \".xlsx\")\n",
    "\n",
    "anio_indicador = 2018\n",
    "dfRenta2018 = iteracion_callback(anio_indicador, 'INDICADOR', 53, 1, 'RENTA_MEDIA')\n",
    "dfRenta2018.to_excel(\"../../data_preprocesada_N1/renta_neta_media_población_\" + str(anio_indicador) + \".xlsx\")\n",
    "\n",
    "anio_indicador = 2020\n",
    "dfRenta2020 = iteracion_callback(anio_indicador, 'INDICADOR', 53, 1, 'RENTA_MEDIA')\n",
    "dfRenta2020.to_excel(\"../../data_preprocesada_N1/renta_neta_media_población_\" + str(anio_indicador) + \".xlsx\")\n",
    "\n",
    "# Dataset Nivel 2\n",
    "finalDataset = pd.DataFrame()\n",
    "lstFrames = [dfRenta2016, dfRenta2018, dfRenta2020]\n",
    "finalDataset = pd.concat(lstFrames)\n",
    "finalDataset.to_excel(\"../../data_preprocesada_N2/renta_neta_media_barrios_madrid.xlsx\")\n"
   ]
  },
  {
   "cell_type": "markdown",
   "id": "b58c494a-16e8-4c8f-9205-01fdeec7889b",
   "metadata": {},
   "source": [
    "## Nivel Educación población periodo 2016, 2018, 2020"
   ]
  },
  {
   "cell_type": "code",
   "execution_count": 126,
   "id": "05904f14-777d-46ed-bc0d-c72a51a72306",
   "metadata": {},
   "outputs": [],
   "source": [
    "# Dataset Nivel 1\n",
    "anio_indicador = 2016\n",
    "dfNivelEducacion2016 = iteracion_callback(anio_indicador, 'NIVELES_EDUCACION', 98, 5, 'NRO_PERSONAS')\n",
    "dfNivelEducacion2016.to_excel(\"../../data_preprocesada_N1/nivel_educación_población_\" + str(anio_indicador) + \".xlsx\")\n",
    "\n",
    "anio_indicador = 2018\n",
    "dfNivelEducacion2018 = iteracion_callback(anio_indicador, 'NIVELES_EDUCACION', 113, 6, 'NRO_PERSONAS')\n",
    "dfNivelEducacion2018.to_excel(\"../../data_preprocesada_N1/nivel_educación_población_\" + str(anio_indicador) + \".xlsx\")\n",
    "\n",
    "anio_indicador = 2020\n",
    "dfNivelEducacion2020 = iteracion_callback(anio_indicador, 'NIVELES_EDUCACION', 113, 6, 'NRO_PERSONAS')\n",
    "dfNivelEducacion2020.to_excel(\"../../data_preprocesada_N1/nivel_educación_población_\" + str(anio_indicador) + \".xlsx\")\n",
    "\n",
    "# Dataset Nivel 2\n",
    "finalDataset = pd.DataFrame()\n",
    "lstFrames = [dfNivelEducacion2016, dfNivelEducacion2018, dfNivelEducacion2020]\n",
    "finalDataset = pd.concat(lstFrames)\n",
    "finalDataset.to_excel(\"../../data_preprocesada_N2/nivel_educación_barrios_madrid.xlsx\")\n"
   ]
  },
  {
   "cell_type": "markdown",
   "id": "9449fb5e-760b-4fcf-828d-30e1c03fb552",
   "metadata": {},
   "source": [
    "## Número de Extranjeros 2016, 2018, 2020"
   ]
  },
  {
   "cell_type": "code",
   "execution_count": 127,
   "id": "fe147b66-f99d-43fc-a14e-3d1ffba20ec0",
   "metadata": {},
   "outputs": [],
   "source": [
    "# Dataset Nivel 1\n",
    "anio_indicador = 2016\n",
    "dfNroExtranjeros2016 = iteracion_callback(anio_indicador, 'INDICADOR', 20, 1, 'NRO_PERSONAS')\n",
    "dfNroExtranjeros2016.to_excel(\"../../data_preprocesada_N1/nro_extranjeros_población_\" + str(anio_indicador) + \".xlsx\")\n",
    "\n",
    "anio_indicador = 2018\n",
    "dfNroExtranjeros2018 = iteracion_callback(anio_indicador, 'INDICADOR', 27, 1, 'NRO_PERSONAS')\n",
    "dfNroExtranjeros2018.to_excel(\"../../data_preprocesada_N1/nro_extranjeros_población_\" + str(anio_indicador) + \".xlsx\")\n",
    "\n",
    "anio_indicador = 2020\n",
    "dfNroExtranjeros2020 = iteracion_callback(anio_indicador, 'INDICADOR', 27, 1, 'NRO_PERSONAS')\n",
    "dfNroExtranjeros2020.to_excel(\"../../data_preprocesada_N1/nro_extranjeros_población_\" + str(anio_indicador) + \".xlsx\")\n",
    "\n",
    "# Dataset Nivel 2\n",
    "finalDataset = pd.DataFrame()\n",
    "lstFrames = [dfNroExtranjeros2016, dfNroExtranjeros2018, dfNroExtranjeros2020]\n",
    "finalDataset = pd.concat(lstFrames)\n",
    "finalDataset.to_excel(\"../../data_preprocesada_N2/nro_extranjeros_barrios_madrid.xlsx\")"
   ]
  },
  {
   "cell_type": "markdown",
   "id": "58455413-d649-48af-b282-c07aa6b60e12",
   "metadata": {},
   "source": [
    "## Tamaño medio del hogar 2016, 2018, 2020"
   ]
  },
  {
   "cell_type": "code",
   "execution_count": 128,
   "id": "0772bd5b-8b57-485c-9c68-4c8c1d995241",
   "metadata": {},
   "outputs": [],
   "source": [
    "# Dataset Nivel 1\n",
    "anio_indicador = 2016\n",
    "dfSizeHogar2016 = iteracion_callback(anio_indicador, 'INDICADOR', 27, 1, 'NRO_MEDIA_PERSONAS')\n",
    "dfSizeHogar2016.to_excel(\"../../data_preprocesada_N1/size_medio_hogares_población_\" + str(anio_indicador) + \".xlsx\")\n",
    "\n",
    "anio_indicador = 2018\n",
    "dfSizeHogar2018 = iteracion_callback(anio_indicador, 'INDICADOR', 35, 1, 'NRO_MEDIA_PERSONAS')\n",
    "dfSizeHogar2018.to_excel(\"../../data_preprocesada_N1/size_medio_hogares_población_\" + str(anio_indicador) + \".xlsx\")\n",
    "\n",
    "anio_indicador = 2020\n",
    "dfSizeHogar2020 = iteracion_callback(anio_indicador, 'INDICADOR', 35, 1, 'NRO_MEDIA_PERSONAS')\n",
    "dfSizeHogar2020.to_excel(\"../../data_preprocesada_N1/size_medio_hogares_población_\" + str(anio_indicador) + \".xlsx\")\n",
    "\n",
    "# Dataset Nivel 2\n",
    "finalDataset = pd.DataFrame()\n",
    "lstFrames = [dfSizeHogar2016, dfSizeHogar2018, dfSizeHogar2020]\n",
    "finalDataset = pd.concat(lstFrames)\n",
    "finalDataset.to_excel(\"../../data_preprocesada_N2/size_medio_hogares_barrios_madrid.xlsx\")"
   ]
  },
  {
   "cell_type": "markdown",
   "id": "02934dd3-8b59-4e7f-a6f6-3c6e481d39c1",
   "metadata": {},
   "source": [
    "## Número de desempleados 2016, 2018, 2020"
   ]
  },
  {
   "cell_type": "code",
   "execution_count": 129,
   "id": "3a603753-37c1-4a23-9e76-251867ff8c80",
   "metadata": {},
   "outputs": [],
   "source": [
    "# Dataset Nivel 1\n",
    "anio_indicador = 2016\n",
    "dfDesempleados2016 = iteracion_callback(anio_indicador, 'INDICADOR', 49, 1, 'NRO_PERSONAS')\n",
    "dfDesempleados2016.to_excel(\"../../data_preprocesada_N1/desempleados_población_\" + str(anio_indicador) + \".xlsx\")\n",
    "\n",
    "anio_indicador = 2018\n",
    "dfDesempleados2018 = iteracion_callback(anio_indicador, 'INDICADOR', 65, 1, 'NRO_PERSONAS')\n",
    "dfDesempleados2018.to_excel(\"../../data_preprocesada_N1/desempleados_población_\" + str(anio_indicador) + \".xlsx\")\n",
    "\n",
    "anio_indicador = 2020\n",
    "dfDesempleados2020 = iteracion_callback(anio_indicador, 'INDICADOR', 65, 1, 'NRO_PERSONAS')\n",
    "dfDesempleados2020.to_excel(\"../../data_preprocesada_N1/desempleados_población_\" + str(anio_indicador) + \".xlsx\")\n",
    "\n",
    "# Dataset Nivel 2\n",
    "finalDataset = pd.DataFrame()\n",
    "lstFrames = [dfDesempleados2016, dfDesempleados2018, dfDesempleados2020]\n",
    "finalDataset = pd.concat(lstFrames)\n",
    "finalDataset.to_excel(\"../../data_preprocesada_N2/desempleados_barrios_madrid.xlsx\")"
   ]
  },
  {
   "cell_type": "markdown",
   "id": "a673d8f6-328c-482e-829d-28bc576e2920",
   "metadata": {},
   "source": [
    "## Precio de la Vivienda (Nuevas, Usadas) 2016, 2018, 2020"
   ]
  },
  {
   "cell_type": "markdown",
   "id": "0d9def97-0a67-4b8d-aced-41bfc6d87564",
   "metadata": {},
   "source": [
    "Continuando con la integración de los datos, en la siguiente URL se extraerán los valores del indicador **Precio de la Vivienda**"
   ]
  },
  {
   "cell_type": "markdown",
   "id": "9f3fbfae-8e88-4c53-9535-c571dccbc993",
   "metadata": {},
   "source": [
    "> http://www-2.munimadrid.es/CSE6/control/seleccionDatos?numSerie=5040201060"
   ]
  },
  {
   "cell_type": "code",
   "execution_count": 130,
   "id": "2166a4da-0596-44c2-bc9b-01861e4d9e93",
   "metadata": {},
   "outputs": [],
   "source": [
    "#Función para lectura iterativa de excel Compra-Venta Vivienda\n",
    "def iteracion_callback_f2(df, year, indicadorName, unidad):\n",
    "    dfPreProcesadoFull = pd.DataFrame()\n",
    "    i = 0\n",
    "    contador_x = 0\n",
    "    contador_y = 172\n",
    "    while i < 1:\n",
    "        # Inicializa dataframes\n",
    "        dfAux = pd.DataFrame()\n",
    "        # Inicializa iteradores de filas\n",
    "        contadorX = contador_x + 1\n",
    "        contadorY = contadorX + contador_y        \n",
    "        dfAux = df[contadorX:contadorY]\n",
    "        dfAux.reset_index(inplace=True, drop=True)\n",
    "        # Pasar columnas como valores del dataframe bajo el campo Barrios\n",
    "        df2 = pd.melt(dfAux, id_vars=[indicadorName], \n",
    "                      var_name=\"TIPO_VIVIENDA\", value_name=unidad)        \n",
    "        # Agrega columna anio\n",
    "        df2['ANIO'] = year\n",
    "        # Agrega columna Indicador\n",
    "        df2['INDICADOR'] = 'PRECIO COMPRA VIVIENDA'        \n",
    "        auxBarrio = df2['BARRIOS'].str.split('\\. ', 1, expand=True)\n",
    "        df2['BARRIOS'] = auxBarrio[1]\n",
    "        # Strings a mayúsculas\n",
    "        df2 = df2.apply(lambda x: x.str.upper() if x.dtype == \"object\" else x)  \n",
    "        #Contadores\n",
    "        contador_x = contadorY        \n",
    "        i = i + 1\n",
    "    return df2"
   ]
  },
  {
   "cell_type": "code",
   "execution_count": 131,
   "id": "060a4551-15e3-4bc6-9e77-af723be49542",
   "metadata": {},
   "outputs": [],
   "source": [
    "#Lectura de excel precios vivienda 2016.xls\n",
    "df2016 = pd.read_excel('../../original_data/precio_viviendas_barrios_2016.xls', \n",
    "                   sheet_name=0, \n",
    "                   skiprows= 7 ,\n",
    "                   usecols=\"A,B,C\")\n",
    "\n",
    "#Lectura de excel precios vivienda 2018.xls\n",
    "df2018 = pd.read_excel('../../original_data/precio_viviendas_barrios_2018.xls', \n",
    "                   sheet_name=0, \n",
    "                   skiprows= 7 ,\n",
    "                   usecols=\"A,B,C\")\n",
    "\n",
    "#Lectura de excel precios vivienda 2020.xls\n",
    "df2020 = pd.read_excel('../../original_data/precio_viviendas_barrios_2020.xls', \n",
    "                   sheet_name=0, \n",
    "                   skiprows= 7 ,\n",
    "                   usecols=\"A,B,C\")\n",
    "\n",
    "# Dataset Nivel 1\n",
    "anio_indicador = 2016\n",
    "dfPrecioVivienda2016 = iteracion_callback_f2(df2016, anio_indicador, 'BARRIOS', 'PRECIO(EUROS/M2)')\n",
    "dfPrecioVivienda2016.to_excel(\"../../data_preprocesada_N1/precio_vivienda_\" + str(anio_indicador) + \".xlsx\")\n",
    "\n",
    "anio_indicador = 2018\n",
    "dfPrecioVivienda2018 = iteracion_callback_f2(df2018, anio_indicador, 'BARRIOS', 'PRECIO(EUROS/M2)')\n",
    "dfPrecioVivienda2018.to_excel(\"../../data_preprocesada_N1/precio_vivienda_\" + str(anio_indicador) + \".xlsx\")\n",
    "\n",
    "anio_indicador = 2020\n",
    "dfPrecioVivienda2020 = iteracion_callback_f2(df2020, anio_indicador, 'BARRIOS', 'PRECIO(EUROS/M2)')\n",
    "dfPrecioVivienda2020.to_excel(\"../../data_preprocesada_N1/precio_vivienda_\" + str(anio_indicador) + \".xlsx\")\n",
    "\n",
    "# Dataset Nivel 2\n",
    "finalDataset = pd.DataFrame()\n",
    "lstFrames = [dfPrecioVivienda2016, dfPrecioVivienda2018, dfPrecioVivienda2020]\n",
    "finalDataset = pd.concat(lstFrames)\n",
    "finalDataset.to_excel(\"../../data_preprocesada_N2/precio_vivienda_barrios_madrid.xlsx\")\n"
   ]
  },
  {
   "cell_type": "markdown",
   "id": "5d351b52-500c-4ea1-b6bf-25883b4816e3",
   "metadata": {},
   "source": [
    "## Turismo (Hospedaje) (Nuevas, Usadas) 2016, 2018, 2020"
   ]
  },
  {
   "cell_type": "markdown",
   "id": "92607af0-ce32-453b-b5cd-30ba55c9c89d",
   "metadata": {},
   "source": [
    "Con la siguiente URL se extraerán los valores correspondientes al indicador **Turismo - Hospedaje**"
   ]
  },
  {
   "cell_type": "markdown",
   "id": "e322a348-3711-4f0b-b44b-c253f7cfbd6a",
   "metadata": {},
   "source": [
    "> https://www.kaggle.com/code/rusiano/housing-crisis-and-tourism-in-madrid/data?select=listings.csv"
   ]
  },
  {
   "cell_type": "code",
   "execution_count": 132,
   "id": "8587bc16-d50b-425e-b8f3-90158c51c294",
   "metadata": {},
   "outputs": [],
   "source": [
    "# Lectura del CSV de Airbnb\n",
    "dfHospedaje = pd.read_csv('../../original_data/airbnb_turismo_barrios.csv')\n",
    "dfHospedaje['ANIO'] = pd.to_datetime(dfHospedaje['last_review']).dt.year\n",
    "dfHospedaje = dfHospedaje[['id','neighbourhood','latitude', 'longitude', 'room_type', 'ANIO']]\n",
    "\n",
    "dfHospedaje = dfHospedaje.rename(columns = {'id': 'ID',\n",
    "                                  'neighbourhood': 'BARRIO',\n",
    "                                  'latitude': 'LATITUD',\n",
    "                                  'longitude': 'LONGITUD',\n",
    "                                  'room_type': 'CATEGORIA'}, inplace = False)\n",
    "# Todo mayuscula\n",
    "dfHospedaje['BARRIO'] = dfHospedaje['BARRIO'].str.upper()\n",
    "dfHospedaje['CATEGORIA'] = dfHospedaje['CATEGORIA'].str.upper()\n",
    "\n",
    "# Elimina valores NA en el campo fecha\n",
    "dfHospedaje = dfHospedaje.dropna()\n",
    "\n",
    "# Filtra anios desde el 2018\n",
    "dfHospedaje = dfHospedaje[dfHospedaje['ANIO'].isin([2016, 2018, 2019])]\n",
    "\n",
    "# Verifica datos duplicados\n",
    "dfHospedajeDeleteDuplicados = dfHospedaje[dfHospedaje.duplicated(['LATITUD', 'LONGITUD'])]\n",
    "\n",
    "# Elimina datos duplicados\n",
    "dfHospedaje.drop(dfHospedaje[dfHospedaje['ID'] == 17453051 ].index, inplace = True)\n",
    "dfHospedaje.drop(dfHospedaje[dfHospedaje['ID'] == 17809905 ].index, inplace = True)\n",
    "dfHospedaje.drop(dfHospedaje[dfHospedaje['ID'] == 20011461 ].index, inplace = True)\n",
    "dfHospedaje.drop(dfHospedaje[dfHospedaje['ID'] == 22312525 ].index, inplace = True)\n",
    "dfHospedaje.drop(dfHospedaje[dfHospedaje['ID'] == 23576224 ].index, inplace = True)\n",
    "dfHospedaje.drop(dfHospedaje[dfHospedaje['ID'] == 35217403 ].index, inplace = True)\n",
    "dfHospedaje.drop(dfHospedaje[dfHospedaje['ID'] == 38310467 ].index, inplace = True)\n"
   ]
  },
  {
   "cell_type": "code",
   "execution_count": 133,
   "id": "32201210-00aa-4989-98da-61ff6c284bfb",
   "metadata": {},
   "outputs": [],
   "source": [
    "# Dataset Nivel 1\n",
    "anio_indicador = 2016\n",
    "dfHospedaje2016 = dfHospedaje[dfHospedaje['ANIO'].isin([anio_indicador])]\n",
    "dfHospedaje2016.to_excel(\"../../data_preprocesada_N1/hospedaje_\" + str(anio_indicador) + \".xlsx\")\n",
    "\n",
    "anio_indicador = 2018\n",
    "dfHospedaje2018 = dfHospedaje[dfHospedaje['ANIO'].isin([anio_indicador])]\n",
    "dfHospedaje2018.to_excel(\"../../data_preprocesada_N1/hospedaje_\" + str(anio_indicador) + \".xlsx\")\n",
    "\n",
    "anio_indicador = 2019\n",
    "dfHospedaje2019 = dfHospedaje[dfHospedaje['ANIO'].isin([anio_indicador])]\n",
    "dfHospedaje2019.to_excel(\"../../data_preprocesada_N1/hospedaje_\" + str(anio_indicador) + \".xlsx\")\n",
    "\n",
    "# Dataset Nivel 2\n",
    "finalDataset = pd.DataFrame()\n",
    "lstFrames = [dfHospedaje2016, dfHospedaje2018, dfHospedaje2019]\n",
    "finalDataset = pd.concat(lstFrames)\n",
    "finalDataset.to_excel(\"../../data_preprocesada_N2/hospedaje_barrios_madrid.xlsx\")\n"
   ]
  },
  {
   "cell_type": "code",
   "execution_count": null,
   "id": "e68d87bf-8652-4a1d-bc8e-585267b673fc",
   "metadata": {},
   "outputs": [],
   "source": []
  },
  {
   "cell_type": "code",
   "execution_count": null,
   "id": "fc045361-ebe6-4000-822d-cbc73202b512",
   "metadata": {},
   "outputs": [],
   "source": []
  }
 ],
 "metadata": {
  "kernelspec": {
   "display_name": "Python 3 (ipykernel)",
   "language": "python",
   "name": "python3"
  },
  "language_info": {
   "codemirror_mode": {
    "name": "ipython",
    "version": 3
   },
   "file_extension": ".py",
   "mimetype": "text/x-python",
   "name": "python",
   "nbconvert_exporter": "python",
   "pygments_lexer": "ipython3",
   "version": "3.9.7"
  }
 },
 "nbformat": 4,
 "nbformat_minor": 5
}
