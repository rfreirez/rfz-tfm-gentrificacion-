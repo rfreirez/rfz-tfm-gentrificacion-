{
 "cells": [
  {
   "cell_type": "markdown",
   "id": "2cfcacb7-2932-49ad-9327-f4809643a24a",
   "metadata": {
    "tags": []
   },
   "source": [
    "# Extracción de datos"
   ]
  },
  {
   "cell_type": "markdown",
   "id": "86fef7f5-02f4-4397-b032-eda9dfd199ad",
   "metadata": {},
   "source": [
    "En esta sección se extraerá los datos de la URL citada a continuación. Los indicadores tomados en cuenta son: \n",
    "* Edad de la población\n",
    "* Renta Media\n",
    "* Niveles de Educación\n",
    "* Extranjeros\n",
    "* Tamaño medio del Hogar\n",
    "* Número de Desempleados\n",
    "> https://datos.madrid.es/portal/site/egob/menuitem.c05c1f754a33a9fbe4b2e4b284f1a5a0/?vgnextoid=71359583a773a510VgnVCM2000001f4a900aRCRD&vgnextchannel=374512b9ace9f310VgnVCM100000171f5a0aRCRD&vgnextfmt=default*"
   ]
  },
  {
   "cell_type": "code",
   "execution_count": 111,
   "id": "b2d5ce06-d19b-4b7e-87d2-7561ce5944c9",
   "metadata": {},
   "outputs": [],
   "source": [
    "import pandas as pd"
   ]
  },
  {
   "cell_type": "code",
   "execution_count": 112,
   "id": "50fd9fd5-61f9-493b-a2e0-7dd7d31c3e18",
   "metadata": {},
   "outputs": [],
   "source": [
    "# Función Genérica para iterar fuente \n",
    "# Lectura iterativa de excel\n",
    "def iteracion_callback(contYear, indicadorName, contadorInicial, contadorFinal, unidad): \n",
    "    sheetNamesLst=['CENTRO', 'ARGANZUELA', 'RETIRO', 'SALAMANCA', 'CHAMARTÍN', 'TETUÁN', 'CHAMBERÍ', 'FUENCARRAL-EL PARDO','MONCLOA-ARAVACA', 'LATINA', 'CARABANCHEL', 'USERA', 'PUENTE DE VALLECAS', 'MORATALAZ', 'CIUDAD LINEAL', 'HORTALEZA', 'VILLAVERDE', 'VILLA DE VALLECAS', 'VICÁLVARO','SAN BLAS-CANILLEJAS','BARAJAS']\n",
    "    arrayFullEdad = []\n",
    "    dfPreProcesadoFull = pd.DataFrame()\n",
    "    # Itera Paginas del excel\n",
    "    for x, nameSheet in enumerate(sheetNamesLst):   \n",
    "        dfAux = pd.DataFrame()\n",
    "        df2 = pd.DataFrame()        \n",
    "        #Lectura de excel\n",
    "        fileName = ''\n",
    "        fileName = '../../original_data/panel_indicadores_distritos_barrios_' + str(contYear) + '.xls'\n",
    "        df = pd.read_excel(fileName, \n",
    "                           sheet_name=nameSheet, \n",
    "                           skiprows= 1)\n",
    "        # Se posiciona en filas de edad en caso de la \n",
    "        # última página seteamos el número de columnas a leer por existir \n",
    "        # más columnas basura\n",
    "        if x == 20 :\n",
    "            dfAux=df.iloc[contadorInicial:contadorInicial+contadorFinal, 0:16]            \n",
    "        else:\n",
    "            dfAux=df.iloc[contadorInicial:contadorInicial+contadorFinal]            \n",
    "\n",
    "        dfAux.reset_index(inplace=True, drop=True)\n",
    "        \n",
    "        columnasNombre = []\n",
    "        contadorFor=0\n",
    "        # Itera columnas para controlar celdas combinadas\n",
    "        for col in dfAux.columns:\n",
    "            if contadorFor == 0 :\n",
    "                newCol = indicadorName\n",
    "            elif contadorFor % 2 == 0:\n",
    "                newCol = nomColAux.upper()\n",
    "            else :\n",
    "                newCol = 'GT_' + col\n",
    "            columnasNombre.append(newCol)\n",
    "            nomColAux = col\n",
    "            contadorFor = contadorFor + 1\n",
    "        # Se coloca los nuevos nombres de columnas\n",
    "        dfAux.columns = columnasNombre\n",
    "        \n",
    "        indexColumnasBorrar = []\n",
    "        contadorColumnas = 0\n",
    "        # Obtener indices de las columnas para ser borradas las de porcentaje\n",
    "        for row in columnasNombre:\n",
    "            if contadorColumnas % 2 != 0 :\n",
    "                indexColumnasBorrar.append(contadorColumnas)\n",
    "            contadorColumnas = contadorColumnas + 1\n",
    "        dfAux.drop(dfAux.columns[indexColumnasBorrar], axis = 1, inplace=True)\n",
    "        dfAux.drop(dfAux.columns[[1]], axis = 1, inplace=True)\n",
    "        \n",
    "        # Pasar columnas como valores del dataframe bajo el campo Barrios\n",
    "        df2 = pd.melt(dfAux, id_vars=[indicadorName], \n",
    "                      var_name=\"BARRIOS\", value_name=unidad)\n",
    "        # Strings a mayúsculas\n",
    "        df2.columns = df2.columns.str.upper()\n",
    "        # Colocamos el anio correspodniente\n",
    "        df2['ANIO'] = contYear\n",
    "        \n",
    "        arrayFullEdad.append(df2)\n",
    "        \n",
    "    dfPreProcesadoFull = pd.concat(arrayFullEdad)                \n",
    "    \n",
    "    return dfPreProcesadoFull"
   ]
  },
  {
   "cell_type": "markdown",
   "id": "fd9f677b-3993-4d64-bb6a-4ad63824c4e6",
   "metadata": {},
   "source": [
    "## Edad de la población periodo 2016, 2018, 2020"
   ]
  },
  {
   "cell_type": "code",
   "execution_count": 113,
   "id": "97be618a-16e1-4f43-a48e-5492a5b8d6d5",
   "metadata": {},
   "outputs": [],
   "source": [
    "# Dataset Nivel 1\n",
    "anio_indicador = 2016\n",
    "dfEdad2016 = iteracion_callback(anio_indicador, 'RANGO_EDAD', 7, 6, 'NRO_PERSONAS')\n",
    "dfEdad2016.to_excel(\"../../data_preprocesada_N1/edad_población_\" + str(anio_indicador) + \".xlsx\")\n",
    "\n",
    "anio_indicador = 2018\n",
    "dfEdad2018 = iteracion_callback(anio_indicador, 'RANGO_EDAD', 9, 6, 'NRO_PERSONAS')\n",
    "dfEdad2018.to_excel(\"../../data_preprocesada_N1/edad_población_\" + str(anio_indicador) + \".xlsx\")\n",
    "\n",
    "anio_indicador = 2020\n",
    "dfEdad2020 = iteracion_callback(anio_indicador, 'RANGO_EDAD', 9, 6, 'NRO_PERSONAS')\n",
    "dfEdad2020.to_excel(\"../../data_preprocesada_N1/edad_población_\" + str(anio_indicador) + \".xlsx\")\n",
    "\n",
    "# Dataset Nivel 2\n",
    "finalDataset = pd.DataFrame()\n",
    "lstFrames = [dfEdad2016, dfEdad2018, dfEdad2020]\n",
    "finalDataset = pd.concat(lstFrames)\n",
    "finalDataset.to_excel(\"../../data_preprocesada_N2/edad_barrios_madrid.xlsx\")\n"
   ]
  },
  {
   "cell_type": "markdown",
   "id": "1144fc36-c896-4b2a-82e4-a3e8e962520a",
   "metadata": {},
   "source": [
    "## Renta neta media anual de la población periodo 2016, 2018, 2020"
   ]
  },
  {
   "cell_type": "code",
   "execution_count": 114,
   "id": "6c788cc0-b7fa-47e6-9257-f35c5743ddb3",
   "metadata": {},
   "outputs": [],
   "source": [
    "# Dataset Nivel 1\n",
    "anio_indicador = 2016\n",
    "dfRenta2016 = iteracion_callback(anio_indicador, 'INDICADOR', 40, 1, 'RENTA_MEDIA')\n",
    "dfRenta2016.to_excel(\"../../data_preprocesada_N1/renta_neta_media_población_\" + str(anio_indicador) + \".xlsx\")\n",
    "\n",
    "anio_indicador = 2018\n",
    "dfRenta2018 = iteracion_callback(anio_indicador, 'INDICADOR', 53, 1, 'RENTA_MEDIA')\n",
    "dfRenta2018.to_excel(\"../../data_preprocesada_N1/renta_neta_media_población_\" + str(anio_indicador) + \".xlsx\")\n",
    "\n",
    "anio_indicador = 2020\n",
    "dfRenta2020 = iteracion_callback(anio_indicador, 'INDICADOR', 53, 1, 'RENTA_MEDIA')\n",
    "dfRenta2020.to_excel(\"../../data_preprocesada_N1/renta_neta_media_población_\" + str(anio_indicador) + \".xlsx\")\n",
    "\n",
    "# Dataset Nivel 2\n",
    "finalDataset = pd.DataFrame()\n",
    "lstFrames = [dfRenta2016, dfRenta2018, dfRenta2020]\n",
    "finalDataset = pd.concat(lstFrames)\n",
    "finalDataset.to_excel(\"../../data_preprocesada_N2/renta_neta_media_barrios_madrid.xlsx\")\n"
   ]
  },
  {
   "cell_type": "markdown",
   "id": "b58c494a-16e8-4c8f-9205-01fdeec7889b",
   "metadata": {},
   "source": [
    "## Nivel Educación población periodo 2016, 2018, 2020"
   ]
  },
  {
   "cell_type": "code",
   "execution_count": 115,
   "id": "05904f14-777d-46ed-bc0d-c72a51a72306",
   "metadata": {},
   "outputs": [
    {
     "ename": "KeyboardInterrupt",
     "evalue": "",
     "output_type": "error",
     "traceback": [
      "\u001b[0;31m---------------------------------------------------------------------------\u001b[0m",
      "\u001b[0;31mKeyboardInterrupt\u001b[0m                         Traceback (most recent call last)",
      "\u001b[0;32m/var/folders/nn/n7p73v0s1y1926c1v_r4k0yc0000gn/T/ipykernel_14635/2308103101.py\u001b[0m in \u001b[0;36m<module>\u001b[0;34m\u001b[0m\n\u001b[1;32m      9\u001b[0m \u001b[0;34m\u001b[0m\u001b[0m\n\u001b[1;32m     10\u001b[0m \u001b[0manio_indicador\u001b[0m \u001b[0;34m=\u001b[0m \u001b[0;36m2020\u001b[0m\u001b[0;34m\u001b[0m\u001b[0;34m\u001b[0m\u001b[0m\n\u001b[0;32m---> 11\u001b[0;31m \u001b[0mdfNivelEducacion2020\u001b[0m \u001b[0;34m=\u001b[0m \u001b[0miteracion_callback\u001b[0m\u001b[0;34m(\u001b[0m\u001b[0manio_indicador\u001b[0m\u001b[0;34m,\u001b[0m \u001b[0;34m'NIVELES_EDUCACION'\u001b[0m\u001b[0;34m,\u001b[0m \u001b[0;36m113\u001b[0m\u001b[0;34m,\u001b[0m \u001b[0;36m6\u001b[0m\u001b[0;34m,\u001b[0m \u001b[0;34m'NRO_PERSONAS'\u001b[0m\u001b[0;34m)\u001b[0m\u001b[0;34m\u001b[0m\u001b[0;34m\u001b[0m\u001b[0m\n\u001b[0m\u001b[1;32m     12\u001b[0m \u001b[0mdfNivelEducacion2020\u001b[0m\u001b[0;34m.\u001b[0m\u001b[0mto_excel\u001b[0m\u001b[0;34m(\u001b[0m\u001b[0;34m\"../../data_preprocesada_N1/nivel_educación_población_\"\u001b[0m \u001b[0;34m+\u001b[0m \u001b[0mstr\u001b[0m\u001b[0;34m(\u001b[0m\u001b[0manio_indicador\u001b[0m\u001b[0;34m)\u001b[0m \u001b[0;34m+\u001b[0m \u001b[0;34m\".xlsx\"\u001b[0m\u001b[0;34m)\u001b[0m\u001b[0;34m\u001b[0m\u001b[0;34m\u001b[0m\u001b[0m\n\u001b[1;32m     13\u001b[0m \u001b[0;34m\u001b[0m\u001b[0m\n",
      "\u001b[0;32m/var/folders/nn/n7p73v0s1y1926c1v_r4k0yc0000gn/T/ipykernel_14635/2835441369.py\u001b[0m in \u001b[0;36miteracion_callback\u001b[0;34m(contYear, indicadorName, contadorInicial, contadorFinal, unidad)\u001b[0m\n\u001b[1;32m     12\u001b[0m         \u001b[0mfileName\u001b[0m \u001b[0;34m=\u001b[0m \u001b[0;34m''\u001b[0m\u001b[0;34m\u001b[0m\u001b[0;34m\u001b[0m\u001b[0m\n\u001b[1;32m     13\u001b[0m         \u001b[0mfileName\u001b[0m \u001b[0;34m=\u001b[0m \u001b[0;34m'../../original_data/panel_indicadores_distritos_barrios_'\u001b[0m \u001b[0;34m+\u001b[0m \u001b[0mstr\u001b[0m\u001b[0;34m(\u001b[0m\u001b[0mcontYear\u001b[0m\u001b[0;34m)\u001b[0m \u001b[0;34m+\u001b[0m \u001b[0;34m'.xls'\u001b[0m\u001b[0;34m\u001b[0m\u001b[0;34m\u001b[0m\u001b[0m\n\u001b[0;32m---> 14\u001b[0;31m         df = pd.read_excel(fileName, \n\u001b[0m\u001b[1;32m     15\u001b[0m                            \u001b[0msheet_name\u001b[0m\u001b[0;34m=\u001b[0m\u001b[0mnameSheet\u001b[0m\u001b[0;34m,\u001b[0m\u001b[0;34m\u001b[0m\u001b[0;34m\u001b[0m\u001b[0m\n\u001b[1;32m     16\u001b[0m                            skiprows= 1)\n",
      "\u001b[0;32m~/opt/anaconda3/lib/python3.9/site-packages/pandas/util/_decorators.py\u001b[0m in \u001b[0;36mwrapper\u001b[0;34m(*args, **kwargs)\u001b[0m\n\u001b[1;32m    309\u001b[0m                     \u001b[0mstacklevel\u001b[0m\u001b[0;34m=\u001b[0m\u001b[0mstacklevel\u001b[0m\u001b[0;34m,\u001b[0m\u001b[0;34m\u001b[0m\u001b[0;34m\u001b[0m\u001b[0m\n\u001b[1;32m    310\u001b[0m                 )\n\u001b[0;32m--> 311\u001b[0;31m             \u001b[0;32mreturn\u001b[0m \u001b[0mfunc\u001b[0m\u001b[0;34m(\u001b[0m\u001b[0;34m*\u001b[0m\u001b[0margs\u001b[0m\u001b[0;34m,\u001b[0m \u001b[0;34m**\u001b[0m\u001b[0mkwargs\u001b[0m\u001b[0;34m)\u001b[0m\u001b[0;34m\u001b[0m\u001b[0;34m\u001b[0m\u001b[0m\n\u001b[0m\u001b[1;32m    312\u001b[0m \u001b[0;34m\u001b[0m\u001b[0m\n\u001b[1;32m    313\u001b[0m         \u001b[0;32mreturn\u001b[0m \u001b[0mwrapper\u001b[0m\u001b[0;34m\u001b[0m\u001b[0;34m\u001b[0m\u001b[0m\n",
      "\u001b[0;32m~/opt/anaconda3/lib/python3.9/site-packages/pandas/io/excel/_base.py\u001b[0m in \u001b[0;36mread_excel\u001b[0;34m(io, sheet_name, header, names, index_col, usecols, squeeze, dtype, engine, converters, true_values, false_values, skiprows, nrows, na_values, keep_default_na, na_filter, verbose, parse_dates, date_parser, thousands, comment, skipfooter, convert_float, mangle_dupe_cols, storage_options)\u001b[0m\n\u001b[1;32m    362\u001b[0m     \u001b[0;32mif\u001b[0m \u001b[0;32mnot\u001b[0m \u001b[0misinstance\u001b[0m\u001b[0;34m(\u001b[0m\u001b[0mio\u001b[0m\u001b[0;34m,\u001b[0m \u001b[0mExcelFile\u001b[0m\u001b[0;34m)\u001b[0m\u001b[0;34m:\u001b[0m\u001b[0;34m\u001b[0m\u001b[0;34m\u001b[0m\u001b[0m\n\u001b[1;32m    363\u001b[0m         \u001b[0mshould_close\u001b[0m \u001b[0;34m=\u001b[0m \u001b[0;32mTrue\u001b[0m\u001b[0;34m\u001b[0m\u001b[0;34m\u001b[0m\u001b[0m\n\u001b[0;32m--> 364\u001b[0;31m         \u001b[0mio\u001b[0m \u001b[0;34m=\u001b[0m \u001b[0mExcelFile\u001b[0m\u001b[0;34m(\u001b[0m\u001b[0mio\u001b[0m\u001b[0;34m,\u001b[0m \u001b[0mstorage_options\u001b[0m\u001b[0;34m=\u001b[0m\u001b[0mstorage_options\u001b[0m\u001b[0;34m,\u001b[0m \u001b[0mengine\u001b[0m\u001b[0;34m=\u001b[0m\u001b[0mengine\u001b[0m\u001b[0;34m)\u001b[0m\u001b[0;34m\u001b[0m\u001b[0;34m\u001b[0m\u001b[0m\n\u001b[0m\u001b[1;32m    365\u001b[0m     \u001b[0;32melif\u001b[0m \u001b[0mengine\u001b[0m \u001b[0;32mand\u001b[0m \u001b[0mengine\u001b[0m \u001b[0;34m!=\u001b[0m \u001b[0mio\u001b[0m\u001b[0;34m.\u001b[0m\u001b[0mengine\u001b[0m\u001b[0;34m:\u001b[0m\u001b[0;34m\u001b[0m\u001b[0;34m\u001b[0m\u001b[0m\n\u001b[1;32m    366\u001b[0m         raise ValueError(\n",
      "\u001b[0;32m~/opt/anaconda3/lib/python3.9/site-packages/pandas/io/excel/_base.py\u001b[0m in \u001b[0;36m__init__\u001b[0;34m(self, path_or_buffer, engine, storage_options)\u001b[0m\n\u001b[1;32m   1231\u001b[0m         \u001b[0mself\u001b[0m\u001b[0;34m.\u001b[0m\u001b[0mstorage_options\u001b[0m \u001b[0;34m=\u001b[0m \u001b[0mstorage_options\u001b[0m\u001b[0;34m\u001b[0m\u001b[0;34m\u001b[0m\u001b[0m\n\u001b[1;32m   1232\u001b[0m \u001b[0;34m\u001b[0m\u001b[0m\n\u001b[0;32m-> 1233\u001b[0;31m         \u001b[0mself\u001b[0m\u001b[0;34m.\u001b[0m\u001b[0m_reader\u001b[0m \u001b[0;34m=\u001b[0m \u001b[0mself\u001b[0m\u001b[0;34m.\u001b[0m\u001b[0m_engines\u001b[0m\u001b[0;34m[\u001b[0m\u001b[0mengine\u001b[0m\u001b[0;34m]\u001b[0m\u001b[0;34m(\u001b[0m\u001b[0mself\u001b[0m\u001b[0;34m.\u001b[0m\u001b[0m_io\u001b[0m\u001b[0;34m,\u001b[0m \u001b[0mstorage_options\u001b[0m\u001b[0;34m=\u001b[0m\u001b[0mstorage_options\u001b[0m\u001b[0;34m)\u001b[0m\u001b[0;34m\u001b[0m\u001b[0;34m\u001b[0m\u001b[0m\n\u001b[0m\u001b[1;32m   1234\u001b[0m \u001b[0;34m\u001b[0m\u001b[0m\n\u001b[1;32m   1235\u001b[0m     \u001b[0;32mdef\u001b[0m \u001b[0m__fspath__\u001b[0m\u001b[0;34m(\u001b[0m\u001b[0mself\u001b[0m\u001b[0;34m)\u001b[0m\u001b[0;34m:\u001b[0m\u001b[0;34m\u001b[0m\u001b[0;34m\u001b[0m\u001b[0m\n",
      "\u001b[0;32m~/opt/anaconda3/lib/python3.9/site-packages/pandas/io/excel/_xlrd.py\u001b[0m in \u001b[0;36m__init__\u001b[0;34m(self, filepath_or_buffer, storage_options)\u001b[0m\n\u001b[1;32m     23\u001b[0m         \u001b[0merr_msg\u001b[0m \u001b[0;34m=\u001b[0m \u001b[0;34m\"Install xlrd >= 1.0.0 for Excel support\"\u001b[0m\u001b[0;34m\u001b[0m\u001b[0;34m\u001b[0m\u001b[0m\n\u001b[1;32m     24\u001b[0m         \u001b[0mimport_optional_dependency\u001b[0m\u001b[0;34m(\u001b[0m\u001b[0;34m\"xlrd\"\u001b[0m\u001b[0;34m,\u001b[0m \u001b[0mextra\u001b[0m\u001b[0;34m=\u001b[0m\u001b[0merr_msg\u001b[0m\u001b[0;34m)\u001b[0m\u001b[0;34m\u001b[0m\u001b[0;34m\u001b[0m\u001b[0m\n\u001b[0;32m---> 25\u001b[0;31m         \u001b[0msuper\u001b[0m\u001b[0;34m(\u001b[0m\u001b[0;34m)\u001b[0m\u001b[0;34m.\u001b[0m\u001b[0m__init__\u001b[0m\u001b[0;34m(\u001b[0m\u001b[0mfilepath_or_buffer\u001b[0m\u001b[0;34m,\u001b[0m \u001b[0mstorage_options\u001b[0m\u001b[0;34m=\u001b[0m\u001b[0mstorage_options\u001b[0m\u001b[0;34m)\u001b[0m\u001b[0;34m\u001b[0m\u001b[0;34m\u001b[0m\u001b[0m\n\u001b[0m\u001b[1;32m     26\u001b[0m \u001b[0;34m\u001b[0m\u001b[0m\n\u001b[1;32m     27\u001b[0m     \u001b[0;34m@\u001b[0m\u001b[0mproperty\u001b[0m\u001b[0;34m\u001b[0m\u001b[0;34m\u001b[0m\u001b[0m\n",
      "\u001b[0;32m~/opt/anaconda3/lib/python3.9/site-packages/pandas/io/excel/_base.py\u001b[0m in \u001b[0;36m__init__\u001b[0;34m(self, filepath_or_buffer, storage_options)\u001b[0m\n\u001b[1;32m    418\u001b[0m             \u001b[0mself\u001b[0m\u001b[0;34m.\u001b[0m\u001b[0mhandles\u001b[0m\u001b[0;34m.\u001b[0m\u001b[0mhandle\u001b[0m\u001b[0;34m.\u001b[0m\u001b[0mseek\u001b[0m\u001b[0;34m(\u001b[0m\u001b[0;36m0\u001b[0m\u001b[0;34m)\u001b[0m\u001b[0;34m\u001b[0m\u001b[0;34m\u001b[0m\u001b[0m\n\u001b[1;32m    419\u001b[0m             \u001b[0;32mtry\u001b[0m\u001b[0;34m:\u001b[0m\u001b[0;34m\u001b[0m\u001b[0;34m\u001b[0m\u001b[0m\n\u001b[0;32m--> 420\u001b[0;31m                 \u001b[0mself\u001b[0m\u001b[0;34m.\u001b[0m\u001b[0mbook\u001b[0m \u001b[0;34m=\u001b[0m \u001b[0mself\u001b[0m\u001b[0;34m.\u001b[0m\u001b[0mload_workbook\u001b[0m\u001b[0;34m(\u001b[0m\u001b[0mself\u001b[0m\u001b[0;34m.\u001b[0m\u001b[0mhandles\u001b[0m\u001b[0;34m.\u001b[0m\u001b[0mhandle\u001b[0m\u001b[0;34m)\u001b[0m\u001b[0;34m\u001b[0m\u001b[0;34m\u001b[0m\u001b[0m\n\u001b[0m\u001b[1;32m    421\u001b[0m             \u001b[0;32mexcept\u001b[0m \u001b[0mException\u001b[0m\u001b[0;34m:\u001b[0m\u001b[0;34m\u001b[0m\u001b[0;34m\u001b[0m\u001b[0m\n\u001b[1;32m    422\u001b[0m                 \u001b[0mself\u001b[0m\u001b[0;34m.\u001b[0m\u001b[0mclose\u001b[0m\u001b[0;34m(\u001b[0m\u001b[0;34m)\u001b[0m\u001b[0;34m\u001b[0m\u001b[0;34m\u001b[0m\u001b[0m\n",
      "\u001b[0;32m~/opt/anaconda3/lib/python3.9/site-packages/pandas/io/excel/_xlrd.py\u001b[0m in \u001b[0;36mload_workbook\u001b[0;34m(self, filepath_or_buffer)\u001b[0m\n\u001b[1;32m     36\u001b[0m         \u001b[0;32mif\u001b[0m \u001b[0mhasattr\u001b[0m\u001b[0;34m(\u001b[0m\u001b[0mfilepath_or_buffer\u001b[0m\u001b[0;34m,\u001b[0m \u001b[0;34m\"read\"\u001b[0m\u001b[0;34m)\u001b[0m\u001b[0;34m:\u001b[0m\u001b[0;34m\u001b[0m\u001b[0;34m\u001b[0m\u001b[0m\n\u001b[1;32m     37\u001b[0m             \u001b[0mdata\u001b[0m \u001b[0;34m=\u001b[0m \u001b[0mfilepath_or_buffer\u001b[0m\u001b[0;34m.\u001b[0m\u001b[0mread\u001b[0m\u001b[0;34m(\u001b[0m\u001b[0;34m)\u001b[0m\u001b[0;34m\u001b[0m\u001b[0;34m\u001b[0m\u001b[0m\n\u001b[0;32m---> 38\u001b[0;31m             \u001b[0;32mreturn\u001b[0m \u001b[0mopen_workbook\u001b[0m\u001b[0;34m(\u001b[0m\u001b[0mfile_contents\u001b[0m\u001b[0;34m=\u001b[0m\u001b[0mdata\u001b[0m\u001b[0;34m)\u001b[0m\u001b[0;34m\u001b[0m\u001b[0;34m\u001b[0m\u001b[0m\n\u001b[0m\u001b[1;32m     39\u001b[0m         \u001b[0;32melse\u001b[0m\u001b[0;34m:\u001b[0m\u001b[0;34m\u001b[0m\u001b[0;34m\u001b[0m\u001b[0m\n\u001b[1;32m     40\u001b[0m             \u001b[0;32mreturn\u001b[0m \u001b[0mopen_workbook\u001b[0m\u001b[0;34m(\u001b[0m\u001b[0mfilepath_or_buffer\u001b[0m\u001b[0;34m)\u001b[0m\u001b[0;34m\u001b[0m\u001b[0;34m\u001b[0m\u001b[0m\n",
      "\u001b[0;32m~/opt/anaconda3/lib/python3.9/site-packages/xlrd/__init__.py\u001b[0m in \u001b[0;36mopen_workbook\u001b[0;34m(filename, logfile, verbosity, use_mmap, file_contents, encoding_override, formatting_info, on_demand, ragged_rows, ignore_workbook_corruption)\u001b[0m\n\u001b[1;32m    170\u001b[0m         \u001b[0;32mraise\u001b[0m \u001b[0mXLRDError\u001b[0m\u001b[0;34m(\u001b[0m\u001b[0mFILE_FORMAT_DESCRIPTIONS\u001b[0m\u001b[0;34m[\u001b[0m\u001b[0mfile_format\u001b[0m\u001b[0;34m]\u001b[0m\u001b[0;34m+\u001b[0m\u001b[0;34m'; not supported'\u001b[0m\u001b[0;34m)\u001b[0m\u001b[0;34m\u001b[0m\u001b[0;34m\u001b[0m\u001b[0m\n\u001b[1;32m    171\u001b[0m \u001b[0;34m\u001b[0m\u001b[0m\n\u001b[0;32m--> 172\u001b[0;31m     bk = open_workbook_xls(\n\u001b[0m\u001b[1;32m    173\u001b[0m         \u001b[0mfilename\u001b[0m\u001b[0;34m=\u001b[0m\u001b[0mfilename\u001b[0m\u001b[0;34m,\u001b[0m\u001b[0;34m\u001b[0m\u001b[0;34m\u001b[0m\u001b[0m\n\u001b[1;32m    174\u001b[0m         \u001b[0mlogfile\u001b[0m\u001b[0;34m=\u001b[0m\u001b[0mlogfile\u001b[0m\u001b[0;34m,\u001b[0m\u001b[0;34m\u001b[0m\u001b[0;34m\u001b[0m\u001b[0m\n",
      "\u001b[0;32m~/opt/anaconda3/lib/python3.9/site-packages/xlrd/book.py\u001b[0m in \u001b[0;36mopen_workbook_xls\u001b[0;34m(filename, logfile, verbosity, use_mmap, file_contents, encoding_override, formatting_info, on_demand, ragged_rows, ignore_workbook_corruption)\u001b[0m\n\u001b[1;32m    105\u001b[0m             \u001b[0mbk\u001b[0m\u001b[0;34m.\u001b[0m\u001b[0m_sheet_list\u001b[0m \u001b[0;34m=\u001b[0m \u001b[0;34m[\u001b[0m\u001b[0;32mNone\u001b[0m \u001b[0;32mfor\u001b[0m \u001b[0msh\u001b[0m \u001b[0;32min\u001b[0m \u001b[0mbk\u001b[0m\u001b[0;34m.\u001b[0m\u001b[0m_sheet_names\u001b[0m\u001b[0;34m]\u001b[0m\u001b[0;34m\u001b[0m\u001b[0;34m\u001b[0m\u001b[0m\n\u001b[1;32m    106\u001b[0m             \u001b[0;32mif\u001b[0m \u001b[0;32mnot\u001b[0m \u001b[0mon_demand\u001b[0m\u001b[0;34m:\u001b[0m\u001b[0;34m\u001b[0m\u001b[0;34m\u001b[0m\u001b[0m\n\u001b[0;32m--> 107\u001b[0;31m                 \u001b[0mbk\u001b[0m\u001b[0;34m.\u001b[0m\u001b[0mget_sheets\u001b[0m\u001b[0;34m(\u001b[0m\u001b[0;34m)\u001b[0m\u001b[0;34m\u001b[0m\u001b[0;34m\u001b[0m\u001b[0m\n\u001b[0m\u001b[1;32m    108\u001b[0m         \u001b[0mbk\u001b[0m\u001b[0;34m.\u001b[0m\u001b[0mnsheets\u001b[0m \u001b[0;34m=\u001b[0m \u001b[0mlen\u001b[0m\u001b[0;34m(\u001b[0m\u001b[0mbk\u001b[0m\u001b[0;34m.\u001b[0m\u001b[0m_sheet_list\u001b[0m\u001b[0;34m)\u001b[0m\u001b[0;34m\u001b[0m\u001b[0;34m\u001b[0m\u001b[0m\n\u001b[1;32m    109\u001b[0m         \u001b[0;32mif\u001b[0m \u001b[0mbiff_version\u001b[0m \u001b[0;34m==\u001b[0m \u001b[0;36m45\u001b[0m \u001b[0;32mand\u001b[0m \u001b[0mbk\u001b[0m\u001b[0;34m.\u001b[0m\u001b[0mnsheets\u001b[0m \u001b[0;34m>\u001b[0m \u001b[0;36m1\u001b[0m\u001b[0;34m:\u001b[0m\u001b[0;34m\u001b[0m\u001b[0;34m\u001b[0m\u001b[0m\n",
      "\u001b[0;32m~/opt/anaconda3/lib/python3.9/site-packages/xlrd/book.py\u001b[0m in \u001b[0;36mget_sheets\u001b[0;34m(self)\u001b[0m\n\u001b[1;32m    720\u001b[0m         \u001b[0;32mfor\u001b[0m \u001b[0msheetno\u001b[0m \u001b[0;32min\u001b[0m \u001b[0mxrange\u001b[0m\u001b[0;34m(\u001b[0m\u001b[0mlen\u001b[0m\u001b[0;34m(\u001b[0m\u001b[0mself\u001b[0m\u001b[0;34m.\u001b[0m\u001b[0m_sheet_names\u001b[0m\u001b[0;34m)\u001b[0m\u001b[0;34m)\u001b[0m\u001b[0;34m:\u001b[0m\u001b[0;34m\u001b[0m\u001b[0;34m\u001b[0m\u001b[0m\n\u001b[1;32m    721\u001b[0m             \u001b[0;32mif\u001b[0m \u001b[0mDEBUG\u001b[0m\u001b[0;34m:\u001b[0m \u001b[0mprint\u001b[0m\u001b[0;34m(\u001b[0m\u001b[0;34m\"GET_SHEETS: sheetno =\"\u001b[0m\u001b[0;34m,\u001b[0m \u001b[0msheetno\u001b[0m\u001b[0;34m,\u001b[0m \u001b[0mself\u001b[0m\u001b[0;34m.\u001b[0m\u001b[0m_sheet_names\u001b[0m\u001b[0;34m,\u001b[0m \u001b[0mself\u001b[0m\u001b[0;34m.\u001b[0m\u001b[0m_sh_abs_posn\u001b[0m\u001b[0;34m,\u001b[0m \u001b[0mfile\u001b[0m\u001b[0;34m=\u001b[0m\u001b[0mself\u001b[0m\u001b[0;34m.\u001b[0m\u001b[0mlogfile\u001b[0m\u001b[0;34m)\u001b[0m\u001b[0;34m\u001b[0m\u001b[0;34m\u001b[0m\u001b[0m\n\u001b[0;32m--> 722\u001b[0;31m             \u001b[0mself\u001b[0m\u001b[0;34m.\u001b[0m\u001b[0mget_sheet\u001b[0m\u001b[0;34m(\u001b[0m\u001b[0msheetno\u001b[0m\u001b[0;34m)\u001b[0m\u001b[0;34m\u001b[0m\u001b[0;34m\u001b[0m\u001b[0m\n\u001b[0m\u001b[1;32m    723\u001b[0m \u001b[0;34m\u001b[0m\u001b[0m\n\u001b[1;32m    724\u001b[0m     \u001b[0;32mdef\u001b[0m \u001b[0mfake_globals_get_sheet\u001b[0m\u001b[0;34m(\u001b[0m\u001b[0mself\u001b[0m\u001b[0;34m)\u001b[0m\u001b[0;34m:\u001b[0m \u001b[0;31m# for BIFF 4.0 and earlier\u001b[0m\u001b[0;34m\u001b[0m\u001b[0;34m\u001b[0m\u001b[0m\n",
      "\u001b[0;32m~/opt/anaconda3/lib/python3.9/site-packages/xlrd/book.py\u001b[0m in \u001b[0;36mget_sheet\u001b[0;34m(self, sh_number, update_pos)\u001b[0m\n\u001b[1;32m    711\u001b[0m             \u001b[0msh_number\u001b[0m\u001b[0;34m,\u001b[0m\u001b[0;34m\u001b[0m\u001b[0;34m\u001b[0m\u001b[0m\n\u001b[1;32m    712\u001b[0m         )\n\u001b[0;32m--> 713\u001b[0;31m         \u001b[0msh\u001b[0m\u001b[0;34m.\u001b[0m\u001b[0mread\u001b[0m\u001b[0;34m(\u001b[0m\u001b[0mself\u001b[0m\u001b[0;34m)\u001b[0m\u001b[0;34m\u001b[0m\u001b[0;34m\u001b[0m\u001b[0m\n\u001b[0m\u001b[1;32m    714\u001b[0m         \u001b[0mself\u001b[0m\u001b[0;34m.\u001b[0m\u001b[0m_sheet_list\u001b[0m\u001b[0;34m[\u001b[0m\u001b[0msh_number\u001b[0m\u001b[0;34m]\u001b[0m \u001b[0;34m=\u001b[0m \u001b[0msh\u001b[0m\u001b[0;34m\u001b[0m\u001b[0;34m\u001b[0m\u001b[0m\n\u001b[1;32m    715\u001b[0m         \u001b[0;32mreturn\u001b[0m \u001b[0msh\u001b[0m\u001b[0;34m\u001b[0m\u001b[0;34m\u001b[0m\u001b[0m\n",
      "\u001b[0;32m~/opt/anaconda3/lib/python3.9/site-packages/xlrd/sheet.py\u001b[0m in \u001b[0;36mread\u001b[0;34m(self, bk)\u001b[0m\n\u001b[1;32m    811\u001b[0m         \u001b[0;32mwhile\u001b[0m \u001b[0;36m1\u001b[0m\u001b[0;34m:\u001b[0m\u001b[0;34m\u001b[0m\u001b[0;34m\u001b[0m\u001b[0m\n\u001b[1;32m    812\u001b[0m             \u001b[0;31m# if DEBUG: print \"SHEET.READ: about to read from position %d\" % bk._position\u001b[0m\u001b[0;34m\u001b[0m\u001b[0;34m\u001b[0m\u001b[0m\n\u001b[0;32m--> 813\u001b[0;31m             \u001b[0mrc\u001b[0m\u001b[0;34m,\u001b[0m \u001b[0mdata_len\u001b[0m\u001b[0;34m,\u001b[0m \u001b[0mdata\u001b[0m \u001b[0;34m=\u001b[0m \u001b[0mbk_get_record_parts\u001b[0m\u001b[0;34m(\u001b[0m\u001b[0;34m)\u001b[0m\u001b[0;34m\u001b[0m\u001b[0;34m\u001b[0m\u001b[0m\n\u001b[0m\u001b[1;32m    814\u001b[0m             \u001b[0;31m# if rc in rc_stats:\u001b[0m\u001b[0;34m\u001b[0m\u001b[0;34m\u001b[0m\u001b[0m\n\u001b[1;32m    815\u001b[0m             \u001b[0;31m#     rc_stats[rc] += 1\u001b[0m\u001b[0;34m\u001b[0m\u001b[0;34m\u001b[0m\u001b[0m\n",
      "\u001b[0;32m~/opt/anaconda3/lib/python3.9/site-packages/xlrd/book.py\u001b[0m in \u001b[0;36mget_record_parts\u001b[0;34m(self)\u001b[0m\n\u001b[1;32m    679\u001b[0m         \u001b[0mcode\u001b[0m\u001b[0;34m,\u001b[0m \u001b[0mlength\u001b[0m \u001b[0;34m=\u001b[0m \u001b[0munpack\u001b[0m\u001b[0;34m(\u001b[0m\u001b[0;34m'<HH'\u001b[0m\u001b[0;34m,\u001b[0m \u001b[0mmem\u001b[0m\u001b[0;34m[\u001b[0m\u001b[0mpos\u001b[0m\u001b[0;34m:\u001b[0m\u001b[0mpos\u001b[0m\u001b[0;34m+\u001b[0m\u001b[0;36m4\u001b[0m\u001b[0;34m]\u001b[0m\u001b[0;34m)\u001b[0m\u001b[0;34m\u001b[0m\u001b[0;34m\u001b[0m\u001b[0m\n\u001b[1;32m    680\u001b[0m         \u001b[0mpos\u001b[0m \u001b[0;34m+=\u001b[0m \u001b[0;36m4\u001b[0m\u001b[0;34m\u001b[0m\u001b[0;34m\u001b[0m\u001b[0m\n\u001b[0;32m--> 681\u001b[0;31m         \u001b[0mdata\u001b[0m \u001b[0;34m=\u001b[0m \u001b[0mmem\u001b[0m\u001b[0;34m[\u001b[0m\u001b[0mpos\u001b[0m\u001b[0;34m:\u001b[0m\u001b[0mpos\u001b[0m\u001b[0;34m+\u001b[0m\u001b[0mlength\u001b[0m\u001b[0;34m]\u001b[0m\u001b[0;34m\u001b[0m\u001b[0;34m\u001b[0m\u001b[0m\n\u001b[0m\u001b[1;32m    682\u001b[0m         \u001b[0mself\u001b[0m\u001b[0;34m.\u001b[0m\u001b[0m_position\u001b[0m \u001b[0;34m=\u001b[0m \u001b[0mpos\u001b[0m \u001b[0;34m+\u001b[0m \u001b[0mlength\u001b[0m\u001b[0;34m\u001b[0m\u001b[0;34m\u001b[0m\u001b[0m\n\u001b[1;32m    683\u001b[0m         \u001b[0;32mreturn\u001b[0m \u001b[0;34m(\u001b[0m\u001b[0mcode\u001b[0m\u001b[0;34m,\u001b[0m \u001b[0mlength\u001b[0m\u001b[0;34m,\u001b[0m \u001b[0mdata\u001b[0m\u001b[0;34m)\u001b[0m\u001b[0;34m\u001b[0m\u001b[0;34m\u001b[0m\u001b[0m\n",
      "\u001b[0;31mKeyboardInterrupt\u001b[0m: "
     ]
    }
   ],
   "source": [
    "# Dataset Nivel 1\n",
    "anio_indicador = 2016\n",
    "dfNivelEducacion2016 = iteracion_callback(anio_indicador, 'NIVELES_EDUCACION', 98, 5, 'NRO_PERSONAS')\n",
    "dfNivelEducacion2016.to_excel(\"../../data_preprocesada_N1/nivel_educación_población_\" + str(anio_indicador) + \".xlsx\")\n",
    "\n",
    "anio_indicador = 2018\n",
    "dfNivelEducacion2018 = iteracion_callback(anio_indicador, 'NIVELES_EDUCACION', 113, 6, 'NRO_PERSONAS')\n",
    "dfNivelEducacion2018.to_excel(\"../../data_preprocesada_N1/nivel_educación_población_\" + str(anio_indicador) + \".xlsx\")\n",
    "\n",
    "anio_indicador = 2020\n",
    "dfNivelEducacion2020 = iteracion_callback(anio_indicador, 'NIVELES_EDUCACION', 113, 6, 'NRO_PERSONAS')\n",
    "dfNivelEducacion2020.to_excel(\"../../data_preprocesada_N1/nivel_educación_población_\" + str(anio_indicador) + \".xlsx\")\n",
    "\n",
    "# Dataset Nivel 2\n",
    "finalDataset = pd.DataFrame()\n",
    "lstFrames = [dfNivelEducacion2016, dfNivelEducacion2018, dfNivelEducacion2020]\n",
    "finalDataset = pd.concat(lstFrames)\n",
    "finalDataset.to_excel(\"../../data_preprocesada_N2/nivel_educación_barrios_madrid.xlsx\")\n"
   ]
  },
  {
   "cell_type": "markdown",
   "id": "9449fb5e-760b-4fcf-828d-30e1c03fb552",
   "metadata": {},
   "source": [
    "## Número de Extranjeros 2016, 2018, 2020"
   ]
  },
  {
   "cell_type": "code",
   "execution_count": null,
   "id": "fe147b66-f99d-43fc-a14e-3d1ffba20ec0",
   "metadata": {},
   "outputs": [],
   "source": [
    "# Dataset Nivel 1\n",
    "anio_indicador = 2016\n",
    "dfNroExtranjeros2016 = iteracion_callback(anio_indicador, 'INDICADOR', 20, 1, 'NRO_PERSONAS')\n",
    "dfNroExtranjeros2016.to_excel(\"../../data_preprocesada_N1/nro_extranjeros_población_\" + str(anio_indicador) + \".xlsx\")\n",
    "\n",
    "anio_indicador = 2018\n",
    "dfNroExtranjeros2018 = iteracion_callback(anio_indicador, 'INDICADOR', 27, 1, 'NRO_PERSONAS')\n",
    "dfNroExtranjeros2018.to_excel(\"../../data_preprocesada_N1/nro_extranjeros_población_\" + str(anio_indicador) + \".xlsx\")\n",
    "\n",
    "anio_indicador = 2020\n",
    "dfNroExtranjeros2020 = iteracion_callback(anio_indicador, 'INDICADOR', 27, 1, 'NRO_PERSONAS')\n",
    "dfNroExtranjeros2020.to_excel(\"../../data_preprocesada_N1/nro_extranjeros_población_\" + str(anio_indicador) + \".xlsx\")\n",
    "\n",
    "# Dataset Nivel 2\n",
    "finalDataset = pd.DataFrame()\n",
    "lstFrames = [dfNroExtranjeros2016, dfNroExtranjeros2018, dfNroExtranjeros2020]\n",
    "finalDataset = pd.concat(lstFrames)\n",
    "finalDataset.to_excel(\"../../data_preprocesada_N2/nro_extranjeros_barrios_madrid.xlsx\")"
   ]
  },
  {
   "cell_type": "markdown",
   "id": "58455413-d649-48af-b282-c07aa6b60e12",
   "metadata": {},
   "source": [
    "## Tamaño medio del hogar 2016, 2018, 2020"
   ]
  },
  {
   "cell_type": "code",
   "execution_count": null,
   "id": "0772bd5b-8b57-485c-9c68-4c8c1d995241",
   "metadata": {},
   "outputs": [],
   "source": [
    "# Dataset Nivel 1\n",
    "anio_indicador = 2016\n",
    "dfSizeHogar2016 = iteracion_callback(anio_indicador, 'INDICADOR', 27, 1, 'NRO_MEDIA_PERSONAS')\n",
    "dfSizeHogar2016.to_excel(\"../../data_preprocesada_N1/size_medio_hogares_población_\" + str(anio_indicador) + \".xlsx\")\n",
    "\n",
    "anio_indicador = 2018\n",
    "dfSizeHogar2018 = iteracion_callback(anio_indicador, 'INDICADOR', 35, 1, 'NRO_MEDIA_PERSONAS')\n",
    "dfSizeHogar2018.to_excel(\"../../data_preprocesada_N1/size_medio_hogares_población_\" + str(anio_indicador) + \".xlsx\")\n",
    "\n",
    "anio_indicador = 2020\n",
    "dfSizeHogar2020 = iteracion_callback(anio_indicador, 'INDICADOR', 35, 1, 'NRO_MEDIA_PERSONAS')\n",
    "dfSizeHogar2020.to_excel(\"../../data_preprocesada_N1/size_medio_hogares_población_\" + str(anio_indicador) + \".xlsx\")\n",
    "\n",
    "# Dataset Nivel 2\n",
    "finalDataset = pd.DataFrame()\n",
    "lstFrames = [dfSizeHogar2016, dfSizeHogar2018, dfSizeHogar2020]\n",
    "finalDataset = pd.concat(lstFrames)\n",
    "finalDataset.to_excel(\"../../data_preprocesada_N2/size_medio_hogares_barrios_madrid.xlsx\")"
   ]
  },
  {
   "cell_type": "markdown",
   "id": "02934dd3-8b59-4e7f-a6f6-3c6e481d39c1",
   "metadata": {},
   "source": [
    "## Número de desempleados 2016, 2018, 2020"
   ]
  },
  {
   "cell_type": "code",
   "execution_count": null,
   "id": "3a603753-37c1-4a23-9e76-251867ff8c80",
   "metadata": {},
   "outputs": [],
   "source": [
    "# Dataset Nivel 1\n",
    "anio_indicador = 2016\n",
    "dfDesempleados2016 = iteracion_callback(anio_indicador, 'INDICADOR', 49, 1, 'NRO_PERSONAS')\n",
    "dfDesempleados2016.to_excel(\"../../data_preprocesada_N1/desempleados_población_\" + str(anio_indicador) + \".xlsx\")\n",
    "\n",
    "anio_indicador = 2018\n",
    "dfDesempleados2018 = iteracion_callback(anio_indicador, 'INDICADOR', 65, 1, 'NRO_PERSONAS')\n",
    "dfDesempleados2018.to_excel(\"../../data_preprocesada_N1/desempleados_población_\" + str(anio_indicador) + \".xlsx\")\n",
    "\n",
    "anio_indicador = 2020\n",
    "dfDesempleados2020 = iteracion_callback(anio_indicador, 'INDICADOR', 65, 1, 'NRO_PERSONAS')\n",
    "dfDesempleados2020.to_excel(\"../../data_preprocesada_N1/desempleados_población_\" + str(anio_indicador) + \".xlsx\")\n",
    "\n",
    "# Dataset Nivel 2\n",
    "finalDataset = pd.DataFrame()\n",
    "lstFrames = [dfDesempleados2016, dfDesempleados2018, dfDesempleados2020]\n",
    "finalDataset = pd.concat(lstFrames)\n",
    "finalDataset.to_excel(\"../../data_preprocesada_N2/desempleados_barrios_madrid.xlsx\")"
   ]
  },
  {
   "cell_type": "markdown",
   "id": "a673d8f6-328c-482e-829d-28bc576e2920",
   "metadata": {},
   "source": [
    "## Precio de la Vivienda (Nuevas, Usadas) 2016, 2018, 2020"
   ]
  },
  {
   "cell_type": "markdown",
   "id": "0d9def97-0a67-4b8d-aced-41bfc6d87564",
   "metadata": {},
   "source": [
    "Continuando con la integración de los datos, en la siguiente URL se extraerán los valores del indicador **Precio de la Vivienda**"
   ]
  },
  {
   "cell_type": "markdown",
   "id": "9f3fbfae-8e88-4c53-9535-c571dccbc993",
   "metadata": {},
   "source": [
    "> http://www-2.munimadrid.es/CSE6/control/seleccionDatos?numSerie=5040201060"
   ]
  },
  {
   "cell_type": "code",
   "execution_count": null,
   "id": "2166a4da-0596-44c2-bc9b-01861e4d9e93",
   "metadata": {},
   "outputs": [],
   "source": [
    "#Función para lectura iterativa de excel Compra-Venta Vivienda\n",
    "def iteracion_callback_f2(df, year, indicadorName, unidad):\n",
    "    dfPreProcesadoFull = pd.DataFrame()\n",
    "    i = 0\n",
    "    contador_x = 0\n",
    "    contador_y = 172\n",
    "    while i < 1:\n",
    "        # Inicializa dataframes\n",
    "        dfAux = pd.DataFrame()\n",
    "        # Inicializa iteradores de filas\n",
    "        contadorX = contador_x + 1\n",
    "        contadorY = contadorX + contador_y        \n",
    "        dfAux = df[contadorX:contadorY]\n",
    "        dfAux.reset_index(inplace=True, drop=True)\n",
    "        # Pasar columnas como valores del dataframe bajo el campo Barrios\n",
    "        df2 = pd.melt(dfAux, id_vars=[indicadorName], \n",
    "                      var_name=\"TIPO_VIVIENDA\", value_name=unidad)        \n",
    "        # Agrega columna anio\n",
    "        df2['ANIO'] = year\n",
    "        # Agrega columna Indicador\n",
    "        df2['INDICADOR'] = 'PRECIO COMPRA VIVIENDA'        \n",
    "        auxBarrio = df2['BARRIOS'].str.split('\\. ', 1, expand=True)\n",
    "        df2['BARRIOS'] = auxBarrio[1]\n",
    "        # Strings a mayúsculas\n",
    "        df2 = df2.apply(lambda x: x.str.upper() if x.dtype == \"object\" else x)  \n",
    "        #Contadores\n",
    "        contador_x = contadorY        \n",
    "        i = i + 1\n",
    "    return df2"
   ]
  },
  {
   "cell_type": "code",
   "execution_count": null,
   "id": "060a4551-15e3-4bc6-9e77-af723be49542",
   "metadata": {},
   "outputs": [],
   "source": [
    "#Lectura de excel precios vivienda 2016.xls\n",
    "df2016 = pd.read_excel('../../original_data/precio_viviendas_barrios_2016.xls', \n",
    "                   sheet_name=0, \n",
    "                   skiprows= 7 ,\n",
    "                   usecols=\"A,B,C\")\n",
    "\n",
    "#Lectura de excel precios vivienda 2018.xls\n",
    "df2018 = pd.read_excel('../../original_data/precio_viviendas_barrios_2018.xls', \n",
    "                   sheet_name=0, \n",
    "                   skiprows= 7 ,\n",
    "                   usecols=\"A,B,C\")\n",
    "\n",
    "#Lectura de excel precios vivienda 2020.xls\n",
    "df2020 = pd.read_excel('../../original_data/precio_viviendas_barrios_2020.xls', \n",
    "                   sheet_name=0, \n",
    "                   skiprows= 7 ,\n",
    "                   usecols=\"A,B,C\")\n",
    "\n",
    "# Dataset Nivel 1\n",
    "anio_indicador = 2016\n",
    "dfPrecioVivienda2016 = iteracion_callback_f2(df2016, anio_indicador, 'BARRIOS', 'PRECIO(EUROS/M2)')\n",
    "dfPrecioVivienda2016.to_excel(\"../../data_preprocesada_N1/precio_vivienda_\" + str(anio_indicador) + \".xlsx\")\n",
    "\n",
    "anio_indicador = 2018\n",
    "dfPrecioVivienda2018 = iteracion_callback_f2(df2018, anio_indicador, 'BARRIOS', 'PRECIO(EUROS/M2)')\n",
    "dfPrecioVivienda2018.to_excel(\"../../data_preprocesada_N1/precio_vivienda_\" + str(anio_indicador) + \".xlsx\")\n",
    "\n",
    "anio_indicador = 2020\n",
    "dfPrecioVivienda2020 = iteracion_callback_f2(df2020, anio_indicador, 'BARRIOS', 'PRECIO(EUROS/M2)')\n",
    "dfPrecioVivienda2020.to_excel(\"../../data_preprocesada_N1/precio_vivienda_\" + str(anio_indicador) + \".xlsx\")\n",
    "\n",
    "# Dataset Nivel 2\n",
    "finalDataset = pd.DataFrame()\n",
    "lstFrames = [dfPrecioVivienda2016, dfPrecioVivienda2018, dfPrecioVivienda2020]\n",
    "finalDataset = pd.concat(lstFrames)\n",
    "finalDataset.to_excel(\"../../data_preprocesada_N2/precio_vivienda_barrios_madrid.xlsx\")\n"
   ]
  },
  {
   "cell_type": "markdown",
   "id": "5d351b52-500c-4ea1-b6bf-25883b4816e3",
   "metadata": {},
   "source": [
    "## Turismo (Hospedaje) (Nuevas, Usadas) 2016, 2018, 2020"
   ]
  },
  {
   "cell_type": "markdown",
   "id": "92607af0-ce32-453b-b5cd-30ba55c9c89d",
   "metadata": {},
   "source": [
    "Con la siguiente URL se extraerán los valores correspondientes al indicador **Turismo - Hospedaje**"
   ]
  },
  {
   "cell_type": "markdown",
   "id": "e322a348-3711-4f0b-b44b-c253f7cfbd6a",
   "metadata": {},
   "source": [
    "> https://www.kaggle.com/code/rusiano/housing-crisis-and-tourism-in-madrid/data?select=listings.csv"
   ]
  },
  {
   "cell_type": "code",
   "execution_count": 119,
   "id": "8587bc16-d50b-425e-b8f3-90158c51c294",
   "metadata": {},
   "outputs": [],
   "source": [
    "# Lectura del CSV de Airbnb\n",
    "dfHospedaje = pd.read_csv('../../original_data/airbnb_turismo_barrios.csv')\n",
    "dfHospedaje['ANIO'] = pd.to_datetime(dfHospedaje['last_review']).dt.year\n",
    "dfHospedaje = dfHospedaje[['id','neighbourhood','latitude', 'longitude', 'room_type', 'ANIO']]\n",
    "\n",
    "dfHospedaje = dfHospedaje.rename(columns = {'id': 'ID',\n",
    "                                  'neighbourhood': 'BARRIO',\n",
    "                                  'latitude': 'LATITUD',\n",
    "                                  'longitude': 'LONGITUD',\n",
    "                                  'room_type': 'CATEGORIA'}, inplace = False)\n",
    "# Todo mayuscula\n",
    "dfHospedaje['BARRIO'] = dfHospedaje['BARRIO'].str.upper()\n",
    "dfHospedaje['CATEGORIA'] = dfHospedaje['CATEGORIA'].str.upper()\n",
    "\n",
    "# Elimina valores NA en el campo fecha\n",
    "dfHospedaje = dfHospedaje.dropna()\n",
    "\n",
    "# Filtra anios desde el 2018\n",
    "dfHospedaje = dfHospedaje[dfHospedaje['ANIO'].isin([2016, 2018, 2019])]\n",
    "\n",
    "# Verifica datos duplicados\n",
    "dfHospedajeDeleteDuplicados = dfHospedaje[dfHospedaje.duplicated(['LATITUD', 'LONGITUD'])]\n",
    "\n",
    "# Elimina datos duplicados\n",
    "dfHospedaje.drop(dfHospedaje[dfHospedaje['ID'] == 17453051 ].index, inplace = True)\n",
    "dfHospedaje.drop(dfHospedaje[dfHospedaje['ID'] == 17809905 ].index, inplace = True)\n",
    "dfHospedaje.drop(dfHospedaje[dfHospedaje['ID'] == 20011461 ].index, inplace = True)\n",
    "dfHospedaje.drop(dfHospedaje[dfHospedaje['ID'] == 22312525 ].index, inplace = True)\n",
    "dfHospedaje.drop(dfHospedaje[dfHospedaje['ID'] == 23576224 ].index, inplace = True)\n",
    "dfHospedaje.drop(dfHospedaje[dfHospedaje['ID'] == 35217403 ].index, inplace = True)\n",
    "dfHospedaje.drop(dfHospedaje[dfHospedaje['ID'] == 38310467 ].index, inplace = True)\n"
   ]
  },
  {
   "cell_type": "code",
   "execution_count": 121,
   "id": "32201210-00aa-4989-98da-61ff6c284bfb",
   "metadata": {},
   "outputs": [],
   "source": [
    "# Dataset Nivel 1\n",
    "anio_indicador = 2016\n",
    "dfHospedaje2016 = dfHospedaje[dfHospedaje['ANIO'].isin([anio_indicador])]\n",
    "dfHospedaje2016.to_excel(\"../../data_preprocesada_N1/hospedaje_\" + str(anio_indicador) + \".xlsx\")\n",
    "\n",
    "anio_indicador = 2018\n",
    "dfHospedaje2018 = dfHospedaje[dfHospedaje['ANIO'].isin([anio_indicador])]\n",
    "dfHospedaje2018.to_excel(\"../../data_preprocesada_N1/hospedaje_\" + str(anio_indicador) + \".xlsx\")\n",
    "\n",
    "anio_indicador = 2019\n",
    "dfHospedaje2019 = dfHospedaje[dfHospedaje['ANIO'].isin([anio_indicador])]\n",
    "dfHospedaje2019.to_excel(\"../../data_preprocesada_N1/hospedaje_\" + str(anio_indicador) + \".xlsx\")\n",
    "\n",
    "# Dataset Nivel 2\n",
    "finalDataset = pd.DataFrame()\n",
    "lstFrames = [dfHospedaje2016, dfHospedaje2018, dfHospedaje2019]\n",
    "finalDataset = pd.concat(lstFrames)\n",
    "finalDataset.to_excel(\"../../data_preprocesada_N2/hospedaje_barrios_madrid.xlsx\")\n"
   ]
  },
  {
   "cell_type": "code",
   "execution_count": null,
   "id": "e68d87bf-8652-4a1d-bc8e-585267b673fc",
   "metadata": {},
   "outputs": [],
   "source": []
  },
  {
   "cell_type": "code",
   "execution_count": null,
   "id": "fc045361-ebe6-4000-822d-cbc73202b512",
   "metadata": {},
   "outputs": [],
   "source": []
  }
 ],
 "metadata": {
  "kernelspec": {
   "display_name": "Python 3 (ipykernel)",
   "language": "python",
   "name": "python3"
  },
  "language_info": {
   "codemirror_mode": {
    "name": "ipython",
    "version": 3
   },
   "file_extension": ".py",
   "mimetype": "text/x-python",
   "name": "python",
   "nbconvert_exporter": "python",
   "pygments_lexer": "ipython3",
   "version": "3.9.7"
  }
 },
 "nbformat": 4,
 "nbformat_minor": 5
}
