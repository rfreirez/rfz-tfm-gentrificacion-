{
 "cells": [
  {
   "cell_type": "code",
   "execution_count": 1,
   "id": "7ea3b4af-27d5-4e79-a4cb-d0f987e22aec",
   "metadata": {},
   "outputs": [],
   "source": [
    "import pandas as pd"
   ]
  },
  {
   "cell_type": "code",
   "execution_count": 3,
   "id": "22d38a76-3ce7-4461-862e-8cecd50cd5b3",
   "metadata": {},
   "outputs": [
    {
     "name": "stderr",
     "output_type": "stream",
     "text": [
      "/Users/renangfz/opt/anaconda3/lib/python3.9/site-packages/pandas/core/frame.py:4906: SettingWithCopyWarning: \n",
      "A value is trying to be set on a copy of a slice from a DataFrame\n",
      "\n",
      "See the caveats in the documentation: https://pandas.pydata.org/pandas-docs/stable/user_guide/indexing.html#returning-a-view-versus-a-copy\n",
      "  return super().drop(\n",
      "/Users/renangfz/opt/anaconda3/lib/python3.9/site-packages/pandas/core/indexing.py:1817: SettingWithCopyWarning: \n",
      "A value is trying to be set on a copy of a slice from a DataFrame.\n",
      "Try using .loc[row_indexer,col_indexer] = value instead\n",
      "\n",
      "See the caveats in the documentation: https://pandas.pydata.org/pandas-docs/stable/user_guide/indexing.html#returning-a-view-versus-a-copy\n",
      "  self._setitem_single_column(loc, value, pi)\n",
      "/var/folders/nn/n7p73v0s1y1926c1v_r4k0yc0000gn/T/ipykernel_3826/517896481.py:18: SettingWithCopyWarning: \n",
      "A value is trying to be set on a copy of a slice from a DataFrame.\n",
      "Try using .loc[row_indexer,col_indexer] = value instead\n",
      "\n",
      "See the caveats in the documentation: https://pandas.pydata.org/pandas-docs/stable/user_guide/indexing.html#returning-a-view-versus-a-copy\n",
      "  dfPreProcesado['Edad'] = dfPreProcesado['Edad'].astype(int)\n",
      "/var/folders/nn/n7p73v0s1y1926c1v_r4k0yc0000gn/T/ipykernel_3826/517896481.py:22: SettingWithCopyWarning: \n",
      "A value is trying to be set on a copy of a slice from a DataFrame.\n",
      "Try using .loc[row_indexer,col_indexer] = value instead\n",
      "\n",
      "See the caveats in the documentation: https://pandas.pydata.org/pandas-docs/stable/user_guide/indexing.html#returning-a-view-versus-a-copy\n",
      "  dfPreProcesado['Edad'] = pd.cut(dfPreProcesado['Edad'], bins, labels = nombreRangos)\n"
     ]
    }
   ],
   "source": [
    "#Función para lectura iterativa de excel\n",
    "def iteracion_callback(df):\n",
    "    dfPreProcesadoFull = pd.DataFrame()\n",
    "    i = 0\n",
    "    contador_x = 0\n",
    "    contador_y = 103\n",
    "    while i <= 130:\n",
    "        dfAux = pd.DataFrame()\n",
    "        dfPreProcesado = pd.DataFrame()\n",
    "        contadorX = contador_x\n",
    "        contadorY = contador_y + contadorX\n",
    "        dfAux=df[contadorX:contadorY]\n",
    "        dfAux.reset_index(inplace=True, drop=True)\n",
    "        # Callback función \n",
    "        dfPreProcesado, barrioName, distritoName = lectura_iterativa(dfAux)\n",
    "        # Limpiar datos\n",
    "        dfPreProcesado.loc[dfPreProcesado['Edad'] == '100 o más', 'Edad'] = '100'\n",
    "        dfPreProcesado['Edad'] = dfPreProcesado['Edad'].astype(int)\n",
    "        # Agrupa edades\n",
    "        bins = [-1, 14, 19, 44, 64, 79, 101]\n",
    "        nombreRangos = ['0-14', '15-19', '30-44', '45-64', '65-79', '80-MÁS']\n",
    "        dfPreProcesado['Edad'] = pd.cut(dfPreProcesado['Edad'], bins, labels = nombreRangos)\n",
    "        dfPreProcesado = dfPreProcesado.groupby('Edad').sum()\n",
    "        #Coloca nombre de barrio en el dataframe reemplazando el distrito\n",
    "        dfPreProcesado['BARRIO'] = barrioName.replace(distritoName + ' / ', '')\n",
    "        dfPreProcesado['ANIO'] = 2021\n",
    "        dfPreProcesado = dfPreProcesado.rename(columns = {'Total': 'CANTIDAD'}, inplace = False)\n",
    "        if i == 0:\n",
    "            dfPreProcesadoFull = dfPreProcesado\n",
    "        else:\n",
    "            dfPreProcesadoFull = pd.concat([dfPreProcesadoFull,dfPreProcesado ])                \n",
    "        #Contadores\n",
    "        contador_x = contadorY \n",
    "        i = i + 1\n",
    "    dfPreProcesadoFull.to_excel(\"../../data_preprocesada_N1/edad_madrid_2021.xlsx\")\n",
    "\n",
    "        \n",
    "def lectura_iterativa(df):\n",
    "    barrioName = \"\"\n",
    "    distritoName = \"\"\n",
    "    for index, row in df.iterrows():\n",
    "        if index == 0:\n",
    "            # Recupera barrio\n",
    "            barrioName = row[index]\n",
    "            splitBarrio = barrioName.split(' / ')\n",
    "            barrioName = splitBarrio[1]\n",
    "            distritoName = splitBarrio[0]\n",
    "    df.drop([0,1], inplace=True)\n",
    "    return df, barrioName, distritoName\n",
    "\n",
    "\n",
    "#Lectura de excel edades_2021.xls\n",
    "df = pd.read_excel('../../original_data/edades_2021.xls', \n",
    "                   sheet_name=0, \n",
    "                   skiprows= 4 ,\n",
    "                   usecols=\"A,B\")\n",
    "\n",
    "iteracion_callback(df)"
   ]
  },
  {
   "cell_type": "code",
   "execution_count": null,
   "id": "a85b0990-76bb-4591-b195-5210879a09b6",
   "metadata": {},
   "outputs": [],
   "source": []
  }
 ],
 "metadata": {
  "kernelspec": {
   "display_name": "Python 3 (ipykernel)",
   "language": "python",
   "name": "python3"
  },
  "language_info": {
   "codemirror_mode": {
    "name": "ipython",
    "version": 3
   },
   "file_extension": ".py",
   "mimetype": "text/x-python",
   "name": "python",
   "nbconvert_exporter": "python",
   "pygments_lexer": "ipython3",
   "version": "3.9.7"
  }
 },
 "nbformat": 4,
 "nbformat_minor": 5
}
