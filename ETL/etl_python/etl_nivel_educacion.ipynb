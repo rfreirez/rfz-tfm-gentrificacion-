{
 "cells": [
  {
   "cell_type": "code",
   "execution_count": 26,
   "id": "7ea3b4af-27d5-4e79-a4cb-d0f987e22aec",
   "metadata": {},
   "outputs": [],
   "source": [
    "import pandas as pd"
   ]
  },
  {
   "cell_type": "code",
   "execution_count": 113,
   "id": "22d38a76-3ce7-4461-862e-8cecd50cd5b3",
   "metadata": {},
   "outputs": [
    {
     "name": "stdout",
     "output_type": "stream",
     "text": [
      "                         BARRIO  ESTUDIOS PRIMARIOS  ANIO  SIN ESTUDIOS  \\\n",
      "0                        Centro              9491.0  2018        3681.0   \n",
      "1                       Palacio              1500.0  2018         572.0   \n",
      "2                   Embajadores              4080.0  2018        1841.0   \n",
      "3                        Cortes               630.0  2018         213.0   \n",
      "4                      Justicia               833.0  2018         258.0   \n",
      "..                          ...                 ...   ...           ...   \n",
      "167            Alameda de Osuna               729.0  2020         193.0   \n",
      "168                  Aeropuerto               227.0  2020         128.0   \n",
      "169  Casco Histórico de Barajas               768.0  2020         426.0   \n",
      "170                       Timón               624.0  2020         315.0   \n",
      "171                  Corralejos               213.0  2020         109.0   \n",
      "\n",
      "     ESTUDIOS SECUNDARIOS  ESTUDIOS SUPERIORES  \n",
      "0                 41843.0              57787.0  \n",
      "1                  6991.0              10090.0  \n",
      "2                 14854.0              17073.0  \n",
      "3                  3196.0               5116.0  \n",
      "4                  4749.0               8208.0  \n",
      "..                    ...                  ...  \n",
      "167                5753.0               8223.0  \n",
      "168                 844.0                245.0  \n",
      "169                3406.0               1593.0  \n",
      "170                3982.0               4135.0  \n",
      "171                1408.0               3334.0  \n",
      "\n",
      "[516 rows x 6 columns]\n"
     ]
    },
    {
     "name": "stderr",
     "output_type": "stream",
     "text": [
      "/var/folders/nn/n7p73v0s1y1926c1v_r4k0yc0000gn/T/ipykernel_6152/1427793515.py:19: SettingWithCopyWarning: \n",
      "A value is trying to be set on a copy of a slice from a DataFrame.\n",
      "Try using .loc[row_indexer,col_indexer] = value instead\n",
      "\n",
      "See the caveats in the documentation: https://pandas.pydata.org/pandas-docs/stable/user_guide/indexing.html#returning-a-view-versus-a-copy\n",
      "  dfAux['ANIO'] = (2018+contYear)\n"
     ]
    }
   ],
   "source": [
    "#Función para lectura iterativa de excel\n",
    "def iteracion_callback(df):\n",
    "    dfPreProcesadoFull = pd.DataFrame()\n",
    "    i = 0\n",
    "    contYear = 0\n",
    "    contador_x = 0\n",
    "    contador_y = 172\n",
    "    while i < 3:\n",
    "    # while i < 1:\n",
    "        # Inicializa dataframes\n",
    "        dfAux = pd.DataFrame()\n",
    "        dfPreProcesado = pd.DataFrame()\n",
    "        # Inicializa iteradores\n",
    "        contadorX = contador_x + 2\n",
    "        contadorY = contadorX + contador_y\n",
    "        dfAux = df[contadorX:contadorY]\n",
    "        dfAux.reset_index(inplace=True, drop=True)\n",
    "        # Agrega columna anio\n",
    "        dfAux['ANIO'] = (2018+contYear)\n",
    "        # Renombrar categorias\n",
    "        dfAux = dfAux.rename(columns = {'Sin estudios': 'SIN ESTUDIOS A',\n",
    "                                        'No sabe leer ni escribir': 'SIN ESTUDIOS B',\n",
    "                                        'Enseñanza primaria incompleta': 'ESTUDIOS PRIMARIOS',\n",
    "                                        'Bachiller elemental, Graduado escolar, E.S.O.': 'ESTUDIOS SECUNDARIOS A',\n",
    "                                        'Formación profesional 1er grado': 'ESTUDIOS SECUNDARIOS D',\n",
    "                                        'Formación profesional 2º grado': 'ESTUDIOS SUPERIORES B',\n",
    "                                        'Bachiller superior, B.U.P.': 'ESTUDIOS SECUNDARIOS B',\n",
    "                                        'Otros titulados medios': 'ESTUDIOS SECUNDARIOS C',\n",
    "                                        'Diplomado Escuela universitaria': 'ESTUDIOS SUPERIORES C',\n",
    "                                        'Arquitecto o Ingeniero técnico': 'ESTUDIOS SUPERIORES D',\n",
    "                                        'Licenciado universitario, Arquitecto o Ingeniero': 'ESTUDIOS SUPERIORES E',\n",
    "                                        'Titulado estudios superiores no universitarios': 'ESTUDIOS SUPERIORES F',                             \n",
    "                                        'Doctorado o Estudios postgraduados': 'ESTUDIOS SUPERIORES G',                                                          \n",
    "                                        'Desconocido y No consta': 'DESCONOCIDO'},                                                                                                   \n",
    "                             inplace = False)\n",
    "\n",
    "        auxBarrio = dfAux['BARRIO'].str.split('\\. ', 1, expand=True)\n",
    "        dfAux['BARRIO'] = auxBarrio[1]\n",
    "        # SUMA COLUMNAS SIMILARES\n",
    "        columns_list = ['SIN ESTUDIOS A', 'SIN ESTUDIOS B']\n",
    "        dfAux['SIN ESTUDIOS'] = dfAux[columns_list].sum(axis=1)\n",
    "        \n",
    "        columns_list = ['ESTUDIOS SECUNDARIOS A', 'ESTUDIOS SECUNDARIOS B', 'ESTUDIOS SECUNDARIOS C', 'ESTUDIOS SECUNDARIOS D']\n",
    "        dfAux['ESTUDIOS SECUNDARIOS'] = dfAux[columns_list].sum(axis=1)\n",
    "        \n",
    "        columns_list = ['ESTUDIOS SUPERIORES B', 'ESTUDIOS SUPERIORES C', 'ESTUDIOS SUPERIORES D', 'ESTUDIOS SUPERIORES E', 'ESTUDIOS SUPERIORES F', 'ESTUDIOS SUPERIORES G']\n",
    "        dfAux['ESTUDIOS SUPERIORES'] = dfAux[columns_list].sum(axis=1)\n",
    "        \n",
    "        # BORRAR COLUMNAS \n",
    "        dfAux.drop(dfAux.columns[[1, 2, 4, 1,2,4,5,6,7,8,9,10,11,12,13,14]], axis = 1, inplace = True)\n",
    "            \n",
    "        if i == 0:\n",
    "            dfPreProcesadoFull = dfAux\n",
    "        else:\n",
    "            dfPreProcesadoFull = pd.concat([dfPreProcesadoFull,dfAux ])                \n",
    "        #Contadores\n",
    "        contador_x = contadorY        \n",
    "        i = i + 1\n",
    "        contYear = contYear + 1\n",
    "    print(dfPreProcesadoFull)\n",
    "    dfPreProcesadoFull.to_excel(\"../../data_preprocesada_N1/nivel_educacion_madrid_2018_2021.xlsx\")\n",
    "    \n",
    "#Lectura de excel edades_2021.xls\n",
    "df = pd.read_excel('../../original_data/nivel_estudios_2018-2021.xls', \n",
    "                   sheet_name=0, \n",
    "                   skiprows= 6 ,\n",
    "                   usecols=\"A,B,C,D,E,F,G,H,I,J,K,L,M,N,O\")\n",
    "\n",
    "iteracion_callback(df)"
   ]
  },
  {
   "cell_type": "code",
   "execution_count": null,
   "id": "a85b0990-76bb-4591-b195-5210879a09b6",
   "metadata": {},
   "outputs": [],
   "source": []
  },
  {
   "cell_type": "code",
   "execution_count": null,
   "id": "b86d9697-bb20-455a-ade8-917e2cfa0b94",
   "metadata": {},
   "outputs": [],
   "source": []
  }
 ],
 "metadata": {
  "kernelspec": {
   "display_name": "Python 3 (ipykernel)",
   "language": "python",
   "name": "python3"
  },
  "language_info": {
   "codemirror_mode": {
    "name": "ipython",
    "version": 3
   },
   "file_extension": ".py",
   "mimetype": "text/x-python",
   "name": "python",
   "nbconvert_exporter": "python",
   "pygments_lexer": "ipython3",
   "version": "3.9.7"
  }
 },
 "nbformat": 4,
 "nbformat_minor": 5
}
