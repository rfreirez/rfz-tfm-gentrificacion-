{
 "cells": [
  {
   "cell_type": "code",
   "execution_count": 82,
   "id": "7ea3b4af-27d5-4e79-a4cb-d0f987e22aec",
   "metadata": {},
   "outputs": [],
   "source": [
    "import pandas as pd"
   ]
  },
  {
   "cell_type": "code",
   "execution_count": 83,
   "id": "22d38a76-3ce7-4461-862e-8cecd50cd5b3",
   "metadata": {},
   "outputs": [
    {
     "name": "stdout",
     "output_type": "stream",
     "text": [
      "                         BARRIO  PRECIO_CASA_NUEVA (EUROS)  \\\n",
      "0                        Centro                    4521.91   \n",
      "1                       Palacio                    5159.73   \n",
      "2                   Embajadores                       0.00   \n",
      "3                        Cortes                       0.00   \n",
      "4                      Justicia                       0.00   \n",
      "..                          ...                        ...   \n",
      "167            Alameda de Osuna                    3020.68   \n",
      "168                  Aeropuerto                       0.00   \n",
      "169  Casco Histórico de Barajas                       0.00   \n",
      "170                       Timón                    3853.96   \n",
      "171                  Corralejos                    3803.30   \n",
      "\n",
      "     PRECIO_CASA_USADA (EUROS)  ANIO  \n",
      "0                      4817.37  2018  \n",
      "1                      4105.46  2018  \n",
      "2                      4187.39  2018  \n",
      "3                      5303.59  2018  \n",
      "4                      5882.35  2018  \n",
      "..                         ...   ...  \n",
      "167                    3295.45  2018  \n",
      "168                       0.00  2018  \n",
      "169                    2745.55  2018  \n",
      "170                    3226.80  2018  \n",
      "171                    3497.84  2018  \n",
      "\n",
      "[172 rows x 4 columns]\n"
     ]
    },
    {
     "name": "stderr",
     "output_type": "stream",
     "text": [
      "/var/folders/nn/n7p73v0s1y1926c1v_r4k0yc0000gn/T/ipykernel_8617/1352742274.py:23: SettingWithCopyWarning: \n",
      "A value is trying to be set on a copy of a slice from a DataFrame.\n",
      "Try using .loc[row_indexer,col_indexer] = value instead\n",
      "\n",
      "See the caveats in the documentation: https://pandas.pydata.org/pandas-docs/stable/user_guide/indexing.html#returning-a-view-versus-a-copy\n",
      "  dfAux['ANIO'] = year\n",
      "/var/folders/nn/n7p73v0s1y1926c1v_r4k0yc0000gn/T/ipykernel_8617/1352742274.py:25: SettingWithCopyWarning: \n",
      "A value is trying to be set on a copy of a slice from a DataFrame.\n",
      "Try using .loc[row_indexer,col_indexer] = value instead\n",
      "\n",
      "See the caveats in the documentation: https://pandas.pydata.org/pandas-docs/stable/user_guide/indexing.html#returning-a-view-versus-a-copy\n",
      "  dfAux['BARRIO'] = auxBarrio[1]\n"
     ]
    }
   ],
   "source": [
    "#Función para lectura iterativa de excel\n",
    "# Parametro tipo_daset \n",
    "#     1=> Para primer archivo de precios 2018-2020\n",
    "#     2=> Para primer archivo de precios 2021\n",
    "def iteracion_callback(df, year, tipo_dataset):\n",
    "    dfPreProcesadoFull = pd.DataFrame()\n",
    "    i = 0\n",
    "    contador_x = 0\n",
    "    contador_y = 172\n",
    "    while i < 1:\n",
    "        # Inicializa dataframes\n",
    "        dfAux = pd.DataFrame()\n",
    "        # Inicializa iteradores de acuerdo al tipo de dataset\n",
    "        if tipo_dataset == 1 :\n",
    "            contadorX = contador_x + 3\n",
    "            contadorY = contadorX + contador_y        \n",
    "        elif tipo_dataset == 2 :\n",
    "            contadorX = contador_x + 1\n",
    "            contadorY = contadorX + (contador_y + 8)\n",
    "        dfAux = df[contadorX:contadorY]\n",
    "        dfAux.reset_index(inplace=True, drop=True)\n",
    "        # Agrega columna anio\n",
    "        dfAux['ANIO'] = year\n",
    "        auxBarrio = dfAux['BARRIO'].str.split('\\. ', 1, expand=True)\n",
    "        dfAux['BARRIO'] = auxBarrio[1]\n",
    "        #Contadores\n",
    "        contador_x = contadorY        \n",
    "        i = i + 1\n",
    "    return dfAux\n",
    "    \n",
    "#Lectura de excel precios vivienda 2018.xls\n",
    "df = pd.read_excel('../../original_data/precio_vivienda_2018_2020.xls', \n",
    "                   sheet_name=0, \n",
    "                   skiprows= 7 ,\n",
    "                   usecols=\"A,B,C\")\n",
    "df2018 = iteracion_callback(df, 2018, 1)\n",
    "df2018 = df2018.rename(columns = {'Nuevas': 'PRECIO_CASA_NUEVA (EUROS)',\n",
    "                                  'Usadas': 'PRECIO_CASA_USADA (EUROS)'}, inplace = False)\n",
    "print(df2018)\n",
    "df2018.to_excel(\"../../data_preprocesada_N1/precio_vivienda_2018.xlsx\")\n"
   ]
  },
  {
   "cell_type": "code",
   "execution_count": 84,
   "id": "a85b0990-76bb-4591-b195-5210879a09b6",
   "metadata": {},
   "outputs": [
    {
     "name": "stdout",
     "output_type": "stream",
     "text": [
      "                         BARRIO  PRECIO_CASA_NUEVA (EUROS)  \\\n",
      "0                        Centro                    6653.36   \n",
      "1                       Palacio                    5281.56   \n",
      "2                   Embajadores                    5226.91   \n",
      "3                        Cortes                       0.00   \n",
      "4                      Justicia                       0.00   \n",
      "..                          ...                        ...   \n",
      "167            Alameda de Osuna                    3401.31   \n",
      "168                  Aeropuerto                       0.00   \n",
      "169  Casco Histórico de Barajas                       0.00   \n",
      "170                       Timón                    2859.77   \n",
      "171                  Corralejos                       0.00   \n",
      "\n",
      "     PRECIO_CASA_USADA (EUROS)  ANIO  \n",
      "0                      5103.94  2019  \n",
      "1                      5044.74  2019  \n",
      "2                      4408.11  2019  \n",
      "3                      5494.30  2019  \n",
      "4                      5943.46  2019  \n",
      "..                         ...   ...  \n",
      "167                    2821.00  2019  \n",
      "168                       0.00  2019  \n",
      "169                    2954.66  2019  \n",
      "170                    3370.35  2019  \n",
      "171                    3691.85  2019  \n",
      "\n",
      "[172 rows x 4 columns]\n"
     ]
    },
    {
     "name": "stderr",
     "output_type": "stream",
     "text": [
      "/var/folders/nn/n7p73v0s1y1926c1v_r4k0yc0000gn/T/ipykernel_8617/1352742274.py:23: SettingWithCopyWarning: \n",
      "A value is trying to be set on a copy of a slice from a DataFrame.\n",
      "Try using .loc[row_indexer,col_indexer] = value instead\n",
      "\n",
      "See the caveats in the documentation: https://pandas.pydata.org/pandas-docs/stable/user_guide/indexing.html#returning-a-view-versus-a-copy\n",
      "  dfAux['ANIO'] = year\n",
      "/var/folders/nn/n7p73v0s1y1926c1v_r4k0yc0000gn/T/ipykernel_8617/1352742274.py:25: SettingWithCopyWarning: \n",
      "A value is trying to be set on a copy of a slice from a DataFrame.\n",
      "Try using .loc[row_indexer,col_indexer] = value instead\n",
      "\n",
      "See the caveats in the documentation: https://pandas.pydata.org/pandas-docs/stable/user_guide/indexing.html#returning-a-view-versus-a-copy\n",
      "  dfAux['BARRIO'] = auxBarrio[1]\n"
     ]
    }
   ],
   "source": [
    "    \n",
    "#Lectura de excel precios vivienda 2020.xls\n",
    "df = pd.read_excel('../../original_data/precio_vivienda_2018_2020.xls', \n",
    "                   sheet_name=0, \n",
    "                   skiprows= 7 ,\n",
    "                   usecols=\"A,D,E\")\n",
    "df2019 = iteracion_callback(df, 2019, 1)\n",
    "df2019 = df2019.rename(columns = {'Nuevas.1': 'PRECIO_CASA_NUEVA (EUROS)',\n",
    "                                  'Usadas.1': 'PRECIO_CASA_USADA (EUROS)'}, inplace = False)\n",
    "print(df2019)\n",
    "df2019.to_excel(\"../../data_preprocesada_N1/precio_vivienda_2019.xlsx\")"
   ]
  },
  {
   "cell_type": "code",
   "execution_count": 85,
   "id": "b86d9697-bb20-455a-ade8-917e2cfa0b94",
   "metadata": {},
   "outputs": [
    {
     "name": "stdout",
     "output_type": "stream",
     "text": [
      "                         BARRIO  PRECIO_CASA_NUEVA (EUROS)  \\\n",
      "0                        Centro                    5468.63   \n",
      "1                       Palacio                    5082.76   \n",
      "2                   Embajadores                    5464.51   \n",
      "3                        Cortes                       0.00   \n",
      "4                      Justicia                       0.00   \n",
      "..                          ...                        ...   \n",
      "167            Alameda de Osuna                    5115.73   \n",
      "168                  Aeropuerto                       0.00   \n",
      "169  Casco Histórico de Barajas                       0.00   \n",
      "170                       Timón                    2413.63   \n",
      "171                  Corralejos                       0.00   \n",
      "\n",
      "     PRECIO_CASA_USADA (EUROS)  ANIO  \n",
      "0                      5194.16  2020  \n",
      "1                      5020.78  2020  \n",
      "2                      4496.74  2020  \n",
      "3                      4989.95  2020  \n",
      "4                      6229.04  2020  \n",
      "..                         ...   ...  \n",
      "167                    3252.99  2020  \n",
      "168                       0.00  2020  \n",
      "169                    2712.99  2020  \n",
      "170                    3813.95  2020  \n",
      "171                    3733.16  2020  \n",
      "\n",
      "[172 rows x 4 columns]\n"
     ]
    },
    {
     "name": "stderr",
     "output_type": "stream",
     "text": [
      "/var/folders/nn/n7p73v0s1y1926c1v_r4k0yc0000gn/T/ipykernel_8617/1352742274.py:23: SettingWithCopyWarning: \n",
      "A value is trying to be set on a copy of a slice from a DataFrame.\n",
      "Try using .loc[row_indexer,col_indexer] = value instead\n",
      "\n",
      "See the caveats in the documentation: https://pandas.pydata.org/pandas-docs/stable/user_guide/indexing.html#returning-a-view-versus-a-copy\n",
      "  dfAux['ANIO'] = year\n",
      "/var/folders/nn/n7p73v0s1y1926c1v_r4k0yc0000gn/T/ipykernel_8617/1352742274.py:25: SettingWithCopyWarning: \n",
      "A value is trying to be set on a copy of a slice from a DataFrame.\n",
      "Try using .loc[row_indexer,col_indexer] = value instead\n",
      "\n",
      "See the caveats in the documentation: https://pandas.pydata.org/pandas-docs/stable/user_guide/indexing.html#returning-a-view-versus-a-copy\n",
      "  dfAux['BARRIO'] = auxBarrio[1]\n"
     ]
    }
   ],
   "source": [
    "    \n",
    "#Lectura de excel precios vivienda 2020.xls\n",
    "df = pd.read_excel('../../original_data/precio_vivienda_2018_2020.xls', \n",
    "                   sheet_name=0, \n",
    "                   skiprows= 7 ,\n",
    "                   usecols=\"A,F,G\")\n",
    "df2020 = iteracion_callback(df, 2020, 1)\n",
    "df2020 = df2020.rename(columns = {'Nuevas.2': 'PRECIO_CASA_NUEVA (EUROS)',\n",
    "                                  'Usadas.2': 'PRECIO_CASA_USADA (EUROS)'}, inplace = False)\n",
    "print(df2020)\n",
    "df2020.to_excel(\"../../data_preprocesada_N1/precio_vivienda_df2020.xlsx\")"
   ]
  },
  {
   "cell_type": "code",
   "execution_count": 86,
   "id": "e8d42dcb-9225-469e-9649-5636b2165bc0",
   "metadata": {},
   "outputs": [
    {
     "name": "stdout",
     "output_type": "stream",
     "text": [
      "                         BARRIO  PRECIO_CASA_NUEVA (EUROS)  \\\n",
      "0                        Centro                          0   \n",
      "1                       Palacio                          0   \n",
      "2                   Embajadores                          0   \n",
      "3                        Cortes                          0   \n",
      "4                      Justicia                          0   \n",
      "..                          ...                        ...   \n",
      "175            Alameda de Osuna                          0   \n",
      "176                  Aeropuerto                          0   \n",
      "177  Casco Histórico de Barajas                          0   \n",
      "178                       Timón                          0   \n",
      "179                  Corralejos                          0   \n",
      "\n",
      "    PRECIO_CASA_USADA (EUROS)  ANIO  \n",
      "0                       4.842  2021  \n",
      "1                       4.714  2021  \n",
      "2                       4.231  2021  \n",
      "3                       5.041  2021  \n",
      "4                       5.773  2021  \n",
      "..                        ...   ...  \n",
      "175                     3.542  2021  \n",
      "176                         -  2021  \n",
      "177                     2.973  2021  \n",
      "178                     3.013  2021  \n",
      "179                     3.688  2021  \n",
      "\n",
      "[180 rows x 4 columns]\n"
     ]
    },
    {
     "name": "stderr",
     "output_type": "stream",
     "text": [
      "/var/folders/nn/n7p73v0s1y1926c1v_r4k0yc0000gn/T/ipykernel_8617/1352742274.py:23: SettingWithCopyWarning: \n",
      "A value is trying to be set on a copy of a slice from a DataFrame.\n",
      "Try using .loc[row_indexer,col_indexer] = value instead\n",
      "\n",
      "See the caveats in the documentation: https://pandas.pydata.org/pandas-docs/stable/user_guide/indexing.html#returning-a-view-versus-a-copy\n",
      "  dfAux['ANIO'] = year\n",
      "/var/folders/nn/n7p73v0s1y1926c1v_r4k0yc0000gn/T/ipykernel_8617/1352742274.py:25: SettingWithCopyWarning: \n",
      "A value is trying to be set on a copy of a slice from a DataFrame.\n",
      "Try using .loc[row_indexer,col_indexer] = value instead\n",
      "\n",
      "See the caveats in the documentation: https://pandas.pydata.org/pandas-docs/stable/user_guide/indexing.html#returning-a-view-versus-a-copy\n",
      "  dfAux['BARRIO'] = auxBarrio[1]\n"
     ]
    }
   ],
   "source": [
    "#Lectura de excel precios vivienda 2021.xls\n",
    "df = pd.read_excel('../../original_data/precio_vivienda_2021.xls', \n",
    "                   sheet_name=0, \n",
    "                   skiprows= 5 ,\n",
    "                   usecols=\"A,B\")\n",
    "df2021 = iteracion_callback(df, 2021, 2)\n",
    "df2021 = df2021.rename(columns = {'2021': 'PRECIO_CASA_USADA (EUROS)'}, inplace = False)\n",
    "df2021['PRECIO_CASA_NUEVA (EUROS)'] = 0\n",
    "df2021 = df2021[['BARRIO','PRECIO_CASA_NUEVA (EUROS)','PRECIO_CASA_USADA (EUROS)', 'ANIO']]\n",
    "df2021.to_excel(\"../../data_preprocesada_N1/precio_vivienda_df2021.xlsx\")\n",
    "print(df2021)"
   ]
  },
  {
   "cell_type": "code",
   "execution_count": null,
   "id": "106dcbac-e929-4373-8a6e-0332b1da8697",
   "metadata": {},
   "outputs": [],
   "source": []
  },
  {
   "cell_type": "code",
   "execution_count": 87,
   "id": "12fcbf2a-b815-45a9-b223-a051db6eb17d",
   "metadata": {},
   "outputs": [
    {
     "name": "stdout",
     "output_type": "stream",
     "text": [
      "                         BARRIO  PRECIO_CASA_NUEVA (EUROS)  \\\n",
      "0                        Centro                    4521.91   \n",
      "1                       Palacio                    5159.73   \n",
      "2                   Embajadores                       0.00   \n",
      "3                        Cortes                       0.00   \n",
      "4                      Justicia                       0.00   \n",
      "..                          ...                        ...   \n",
      "175            Alameda de Osuna                       0.00   \n",
      "176                  Aeropuerto                       0.00   \n",
      "177  Casco Histórico de Barajas                       0.00   \n",
      "178                       Timón                       0.00   \n",
      "179                  Corralejos                       0.00   \n",
      "\n",
      "    PRECIO_CASA_USADA (EUROS)  ANIO  \n",
      "0                     4817.37  2018  \n",
      "1                     4105.46  2018  \n",
      "2                     4187.39  2018  \n",
      "3                     5303.59  2018  \n",
      "4                     5882.35  2018  \n",
      "..                        ...   ...  \n",
      "175                     3.542  2021  \n",
      "176                         -  2021  \n",
      "177                     2.973  2021  \n",
      "178                     3.013  2021  \n",
      "179                     3.688  2021  \n",
      "\n",
      "[696 rows x 4 columns]\n"
     ]
    }
   ],
   "source": [
    "#Array de Dataframes\n",
    "frames = [df2018, df2019, df2020, df2021]\n",
    "\n",
    "# Unir dataframes\n",
    "result = pd.concat(frames)\n",
    "\n",
    "print(result)\n",
    "result.to_excel(\"../../data_preprocesada_N2/precio_vivienda.xlsx\")"
   ]
  },
  {
   "cell_type": "code",
   "execution_count": null,
   "id": "5682d2d5-a157-4880-8fcd-0061a0d4368c",
   "metadata": {},
   "outputs": [],
   "source": []
  },
  {
   "cell_type": "code",
   "execution_count": null,
   "id": "9094332e-9b17-4e67-bece-527ff6450187",
   "metadata": {},
   "outputs": [],
   "source": []
  },
  {
   "cell_type": "code",
   "execution_count": null,
   "id": "857a9e8a-f1de-4b6e-96a8-adae3890d755",
   "metadata": {},
   "outputs": [],
   "source": []
  }
 ],
 "metadata": {
  "kernelspec": {
   "display_name": "Python 3 (ipykernel)",
   "language": "python",
   "name": "python3"
  },
  "language_info": {
   "codemirror_mode": {
    "name": "ipython",
    "version": 3
   },
   "file_extension": ".py",
   "mimetype": "text/x-python",
   "name": "python",
   "nbconvert_exporter": "python",
   "pygments_lexer": "ipython3",
   "version": "3.9.7"
  }
 },
 "nbformat": 4,
 "nbformat_minor": 5
}
