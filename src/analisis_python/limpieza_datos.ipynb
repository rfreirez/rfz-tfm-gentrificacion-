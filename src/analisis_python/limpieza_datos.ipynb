{
 "cells": [
  {
   "cell_type": "markdown",
   "id": "883aefa4-6bf2-41b3-9c17-13564060a85e",
   "metadata": {},
   "source": [
    "# Limpieza de datos"
   ]
  },
  {
   "cell_type": "code",
   "execution_count": 28,
   "id": "e63f0a79-7962-4e36-84ac-a44681d3a838",
   "metadata": {},
   "outputs": [],
   "source": [
    "import pandas as pd\n",
    "import numpy as np"
   ]
  },
  {
   "cell_type": "markdown",
   "id": "80e50240-bcf8-404e-8080-b008fde09e22",
   "metadata": {},
   "source": [
    "## <span style=\"color:blue\">Indicador Edad</span>"
   ]
  },
  {
   "cell_type": "code",
   "execution_count": 29,
   "id": "859df480-1767-446d-9f9f-e66aeb9d4f8b",
   "metadata": {},
   "outputs": [],
   "source": [
    "# Lectura del Excel Edad\n",
    "dfEdad = pd.read_excel('../../data_preprocesada_N2/edad_barrios_madrid.xlsx')\n",
    "\n",
    "# # Selecciona columnas importantes\n",
    "dfEdadSeleccionado = dfEdad[['RANGO_EDAD',\n",
    "                        'COD_DISBAR', \n",
    "                        'BARRIOS', \n",
    "                        'NRO_PERSONAS', \n",
    "                        'ANIO', \n",
    "                        'LATITUD', \n",
    "                        'LONGITUD']]\n",
    "\n",
    "# Estandariza valor Rango Edad\n",
    "dfEdadSeleccionado.loc[dfEdadSeleccionado['RANGO_EDAD'] == 'De 0 a 14 años', 'RANGO_EDAD'] = '0-14'\n",
    "dfEdadSeleccionado.loc[dfEdadSeleccionado['RANGO_EDAD'] == 'De 15 a 29', 'RANGO_EDAD'] = '15-29'\n",
    "dfEdadSeleccionado.loc[dfEdadSeleccionado['RANGO_EDAD'] == 'De 30 a 44', 'RANGO_EDAD'] = '30-44'\n",
    "dfEdadSeleccionado.loc[dfEdadSeleccionado['RANGO_EDAD'] == 'De 45 a 64', 'RANGO_EDAD'] = '45-64'\n",
    "dfEdadSeleccionado.loc[dfEdadSeleccionado['RANGO_EDAD'] == 'De 65 a 79', 'RANGO_EDAD'] = '65-79'\n",
    "dfEdadSeleccionado.loc[dfEdadSeleccionado['RANGO_EDAD'] == 'De 80 y + ', 'RANGO_EDAD'] = '>=80'"
   ]
  },
  {
   "cell_type": "code",
   "execution_count": 30,
   "id": "7b05af85-085b-4763-b997-9bcd77ad42bf",
   "metadata": {},
   "outputs": [
    {
     "name": "stdout",
     "output_type": "stream",
     "text": [
      "Número de Filas:  3216\n"
     ]
    }
   ],
   "source": [
    "# Número de filas\n",
    "print('Número de Filas: ', dfEdadSeleccionado.shape[0])"
   ]
  },
  {
   "cell_type": "code",
   "execution_count": 31,
   "id": "45e2de03-d813-4bf9-9698-3da465f747b6",
   "metadata": {},
   "outputs": [
    {
     "data": {
      "text/plain": [
       "RANGO_EDAD         0\n",
       "COD_DISBAR      1008\n",
       "BARRIOS            0\n",
       "NRO_PERSONAS     468\n",
       "ANIO               0\n",
       "LATITUD         1008\n",
       "LONGITUD        1008\n",
       "dtype: int64"
      ]
     },
     "execution_count": 31,
     "metadata": {},
     "output_type": "execute_result"
    }
   ],
   "source": [
    "# Calcular el número de valores \"missing values\" de cada variable.\n",
    "dfEdadSeleccionado.isna().sum()\n"
   ]
  },
  {
   "cell_type": "code",
   "execution_count": 32,
   "id": "a449cd2d-21d6-4ac8-9e4e-c03be5f93881",
   "metadata": {},
   "outputs": [],
   "source": [
    "# Elimina \"missing values\"\n",
    "dfEdadSeleccionado = dfEdadSeleccionado.dropna()\n"
   ]
  },
  {
   "cell_type": "code",
   "execution_count": 33,
   "id": "d22c9aff-4bb4-4ed2-a19b-dabd5cb80f56",
   "metadata": {},
   "outputs": [
    {
     "data": {
      "text/plain": [
       "RANGO_EDAD      0\n",
       "COD_DISBAR      0\n",
       "BARRIOS         0\n",
       "NRO_PERSONAS    0\n",
       "ANIO            0\n",
       "LATITUD         0\n",
       "LONGITUD        0\n",
       "dtype: int64"
      ]
     },
     "execution_count": 33,
     "metadata": {},
     "output_type": "execute_result"
    }
   ],
   "source": [
    "# Calcular el número de valores \"missing values\" de cada variable.\n",
    "dfEdadSeleccionado.isna().sum()"
   ]
  },
  {
   "cell_type": "code",
   "execution_count": 34,
   "id": "8ae84388-cc16-4e2b-8bca-eb045de49609",
   "metadata": {},
   "outputs": [
    {
     "name": "stdout",
     "output_type": "stream",
     "text": [
      "Número de Filas:  2208\n"
     ]
    }
   ],
   "source": [
    "print('Número de Filas: ', dfEdadSeleccionado.shape[0])"
   ]
  },
  {
   "cell_type": "code",
   "execution_count": 35,
   "id": "b33f15cd-e276-4b1b-99df-9b540156a848",
   "metadata": {},
   "outputs": [
    {
     "name": "stdout",
     "output_type": "stream",
     "text": [
      "<class 'pandas.core.frame.DataFrame'>\n",
      "Int64Index: 2208 entries, 6 to 3215\n",
      "Data columns (total 7 columns):\n",
      " #   Column        Non-Null Count  Dtype  \n",
      "---  ------        --------------  -----  \n",
      " 0   RANGO_EDAD    2208 non-null   object \n",
      " 1   COD_DISBAR    2208 non-null   float64\n",
      " 2   BARRIOS       2208 non-null   object \n",
      " 3   NRO_PERSONAS  2208 non-null   float64\n",
      " 4   ANIO          2208 non-null   int64  \n",
      " 5   LATITUD       2208 non-null   float64\n",
      " 6   LONGITUD      2208 non-null   float64\n",
      "dtypes: float64(4), int64(1), object(2)\n",
      "memory usage: 138.0+ KB\n"
     ]
    }
   ],
   "source": [
    "#Verifica información del dataset\n",
    "dfEdadSeleccionado.info()"
   ]
  },
  {
   "cell_type": "code",
   "execution_count": 36,
   "id": "6285f19e-710a-4389-bfde-e2f6927b8970",
   "metadata": {},
   "outputs": [],
   "source": [
    "# Escribe excel en nivel 3\n",
    "\n",
    "# Selecciona dataset para mayores de 65 anios\n",
    "# dfEdadClean = dfEdadSeleccionado[dfEdadSeleccionado['RANGO_EDAD'].isin(['65-79', '>=80'])]\n",
    "dfEdadClean = dfEdadSeleccionado[dfEdadSeleccionado['RANGO_EDAD'].isin(['15-29', '30-44'])]\n",
    "\n",
    "dfEdadClean = dfEdadClean.groupby(['COD_DISBAR', 'BARRIOS', 'ANIO', 'LATITUD', 'LONGITUD'],as_index=False).sum()\n",
    "dfEdadClean = dfEdadClean.astype({\"COD_DISBAR\":'int'}) \n",
    "\n",
    "dfEdadClean.to_csv('../../data_preprocesada_N3/clean_edad_barrios_menores65.csv', index=False)\n"
   ]
  },
  {
   "cell_type": "markdown",
   "id": "a30490f2-33cb-4a18-8c2e-052be97b8319",
   "metadata": {},
   "source": [
    "## <span style=\"color:blue\">Indicador Renta</span>\n"
   ]
  },
  {
   "cell_type": "code",
   "execution_count": 4,
   "id": "0ee6c9c0-c907-463e-bba4-b87887f25acf",
   "metadata": {},
   "outputs": [
    {
     "data": {
      "text/html": [
       "<div>\n",
       "<style scoped>\n",
       "    .dataframe tbody tr th:only-of-type {\n",
       "        vertical-align: middle;\n",
       "    }\n",
       "\n",
       "    .dataframe tbody tr th {\n",
       "        vertical-align: top;\n",
       "    }\n",
       "\n",
       "    .dataframe thead th {\n",
       "        text-align: right;\n",
       "    }\n",
       "</style>\n",
       "<table border=\"1\" class=\"dataframe\">\n",
       "  <thead>\n",
       "    <tr style=\"text-align: right;\">\n",
       "      <th></th>\n",
       "      <th>COD_DISBAR</th>\n",
       "      <th>BARRIOS</th>\n",
       "      <th>RENTA_MEDIA</th>\n",
       "      <th>ANIO</th>\n",
       "      <th>LATITUD</th>\n",
       "      <th>LONGITUD</th>\n",
       "    </tr>\n",
       "  </thead>\n",
       "  <tbody>\n",
       "    <tr>\n",
       "      <th>0</th>\n",
       "      <td>NaN</td>\n",
       "      <td>CENTRO</td>\n",
       "      <td>NaN</td>\n",
       "      <td>2016</td>\n",
       "      <td>NaN</td>\n",
       "      <td>NaN</td>\n",
       "    </tr>\n",
       "    <tr>\n",
       "      <th>1</th>\n",
       "      <td>11.0</td>\n",
       "      <td>PALACIO</td>\n",
       "      <td>31912.671137</td>\n",
       "      <td>2016</td>\n",
       "      <td>4474110.875</td>\n",
       "      <td>439417.7914</td>\n",
       "    </tr>\n",
       "    <tr>\n",
       "      <th>2</th>\n",
       "      <td>12.0</td>\n",
       "      <td>EMBAJADORES</td>\n",
       "      <td>23917.971606</td>\n",
       "      <td>2016</td>\n",
       "      <td>4473417.211</td>\n",
       "      <td>440397.1764</td>\n",
       "    </tr>\n",
       "    <tr>\n",
       "      <th>3</th>\n",
       "      <td>13.0</td>\n",
       "      <td>CORTES</td>\n",
       "      <td>32410.562593</td>\n",
       "      <td>2016</td>\n",
       "      <td>4474035.577</td>\n",
       "      <td>440880.1521</td>\n",
       "    </tr>\n",
       "    <tr>\n",
       "      <th>4</th>\n",
       "      <td>14.0</td>\n",
       "      <td>JUSTICIA</td>\n",
       "      <td>36413.535887</td>\n",
       "      <td>2016</td>\n",
       "      <td>4475014.208</td>\n",
       "      <td>440900.7625</td>\n",
       "    </tr>\n",
       "    <tr>\n",
       "      <th>...</th>\n",
       "      <td>...</td>\n",
       "      <td>...</td>\n",
       "      <td>...</td>\n",
       "      <td>...</td>\n",
       "      <td>...</td>\n",
       "      <td>...</td>\n",
       "    </tr>\n",
       "    <tr>\n",
       "      <th>531</th>\n",
       "      <td>211.0</td>\n",
       "      <td>ALAMEDA DE OSUNA</td>\n",
       "      <td>25366.000000</td>\n",
       "      <td>2019</td>\n",
       "      <td>4478581.448</td>\n",
       "      <td>449818.2184</td>\n",
       "    </tr>\n",
       "    <tr>\n",
       "      <th>532</th>\n",
       "      <td>212.0</td>\n",
       "      <td>AEROPUERTO</td>\n",
       "      <td>41635.743263</td>\n",
       "      <td>2019</td>\n",
       "      <td>4481029.075</td>\n",
       "      <td>452237.8537</td>\n",
       "    </tr>\n",
       "    <tr>\n",
       "      <th>533</th>\n",
       "      <td>213.0</td>\n",
       "      <td>CASCO HISTÓRICO DE BARAJAS</td>\n",
       "      <td>37427.000000</td>\n",
       "      <td>2019</td>\n",
       "      <td>4480530.185</td>\n",
       "      <td>450931.3676</td>\n",
       "    </tr>\n",
       "    <tr>\n",
       "      <th>534</th>\n",
       "      <td>214.0</td>\n",
       "      <td>TIMÓN</td>\n",
       "      <td>41584.000000</td>\n",
       "      <td>2019</td>\n",
       "      <td>4480810.557</td>\n",
       "      <td>448842.3002</td>\n",
       "    </tr>\n",
       "    <tr>\n",
       "      <th>535</th>\n",
       "      <td>215.0</td>\n",
       "      <td>CORRALEJOS</td>\n",
       "      <td>31866.000000</td>\n",
       "      <td>2019</td>\n",
       "      <td>4479457.295</td>\n",
       "      <td>448527.2781</td>\n",
       "    </tr>\n",
       "  </tbody>\n",
       "</table>\n",
       "<p>536 rows × 6 columns</p>\n",
       "</div>"
      ],
      "text/plain": [
       "     COD_DISBAR                     BARRIOS   RENTA_MEDIA  ANIO      LATITUD  \\\n",
       "0           NaN                      CENTRO           NaN  2016          NaN   \n",
       "1          11.0                     PALACIO  31912.671137  2016  4474110.875   \n",
       "2          12.0                 EMBAJADORES  23917.971606  2016  4473417.211   \n",
       "3          13.0                      CORTES  32410.562593  2016  4474035.577   \n",
       "4          14.0                    JUSTICIA  36413.535887  2016  4475014.208   \n",
       "..          ...                         ...           ...   ...          ...   \n",
       "531       211.0            ALAMEDA DE OSUNA  25366.000000  2019  4478581.448   \n",
       "532       212.0                  AEROPUERTO  41635.743263  2019  4481029.075   \n",
       "533       213.0  CASCO HISTÓRICO DE BARAJAS  37427.000000  2019  4480530.185   \n",
       "534       214.0                       TIMÓN  41584.000000  2019  4480810.557   \n",
       "535       215.0                  CORRALEJOS  31866.000000  2019  4479457.295   \n",
       "\n",
       "        LONGITUD  \n",
       "0            NaN  \n",
       "1    439417.7914  \n",
       "2    440397.1764  \n",
       "3    440880.1521  \n",
       "4    440900.7625  \n",
       "..           ...  \n",
       "531  449818.2184  \n",
       "532  452237.8537  \n",
       "533  450931.3676  \n",
       "534  448842.3002  \n",
       "535  448527.2781  \n",
       "\n",
       "[536 rows x 6 columns]"
      ]
     },
     "execution_count": 4,
     "metadata": {},
     "output_type": "execute_result"
    }
   ],
   "source": [
    "# Lectura del Excel Renta\n",
    "dfRenta = pd.read_excel('../../data_preprocesada_N2/renta_neta_media_barrios_madrid.xlsx')\n",
    "\n",
    "# # Selecciona columnas importantes\n",
    "dfRentaSeleccionado = dfRenta[[\n",
    "                        'COD_DISBAR', \n",
    "                        'BARRIOS', \n",
    "                        'RENTA_MEDIA', \n",
    "                        'ANIO', \n",
    "                        'LATITUD', \n",
    "                        'LONGITUD']]"
   ]
  },
  {
   "cell_type": "code",
   "execution_count": 7,
   "id": "e01c13b9-82c7-4660-8f1e-ac701dece407",
   "metadata": {},
   "outputs": [
    {
     "name": "stdout",
     "output_type": "stream",
     "text": [
      "Número de Filas:  536\n"
     ]
    }
   ],
   "source": [
    "# Número de filas\n",
    "print('Número de Filas: ', dfRentaSeleccionado.shape[0])"
   ]
  },
  {
   "cell_type": "code",
   "execution_count": 8,
   "id": "7951cd22-9ec2-4d6e-a66a-59f43cb41b2e",
   "metadata": {},
   "outputs": [
    {
     "data": {
      "text/plain": [
       "COD_DISBAR     168\n",
       "BARRIOS          0\n",
       "RENTA_MEDIA    103\n",
       "ANIO             0\n",
       "LATITUD        168\n",
       "LONGITUD       168\n",
       "dtype: int64"
      ]
     },
     "execution_count": 8,
     "metadata": {},
     "output_type": "execute_result"
    }
   ],
   "source": [
    "# Calcular el número de valores \"missing values\" de cada variable.\n",
    "dfRentaSeleccionado.isna().sum()\n"
   ]
  },
  {
   "cell_type": "code",
   "execution_count": 9,
   "id": "ca3bc1f1-f444-4042-9cec-22ced98bda72",
   "metadata": {},
   "outputs": [],
   "source": [
    "# Elimina \"missing values\"\n",
    "dfRentaSeleccionado = dfRentaSeleccionado.dropna()"
   ]
  },
  {
   "cell_type": "code",
   "execution_count": 10,
   "id": "28a44f49-8d58-4994-b041-b05c51aa12af",
   "metadata": {},
   "outputs": [
    {
     "data": {
      "text/plain": [
       "COD_DISBAR     0\n",
       "BARRIOS        0\n",
       "RENTA_MEDIA    0\n",
       "ANIO           0\n",
       "LATITUD        0\n",
       "LONGITUD       0\n",
       "dtype: int64"
      ]
     },
     "execution_count": 10,
     "metadata": {},
     "output_type": "execute_result"
    }
   ],
   "source": [
    "# Calcular el número de valores \"missing values\" de cada variable.\n",
    "dfRentaSeleccionado.isna().sum()"
   ]
  },
  {
   "cell_type": "code",
   "execution_count": 11,
   "id": "0927db11-672b-46d4-a999-2678465113b4",
   "metadata": {},
   "outputs": [
    {
     "name": "stdout",
     "output_type": "stream",
     "text": [
      "Número de Filas:  365\n"
     ]
    }
   ],
   "source": [
    "print('Número de Filas: ', dfRentaSeleccionado.shape[0])"
   ]
  },
  {
   "cell_type": "code",
   "execution_count": 12,
   "id": "0aba70e2-8d6f-4dc7-987e-10e3a0a9d1a9",
   "metadata": {},
   "outputs": [
    {
     "name": "stdout",
     "output_type": "stream",
     "text": [
      "<class 'pandas.core.frame.DataFrame'>\n",
      "Int64Index: 365 entries, 1 to 535\n",
      "Data columns (total 6 columns):\n",
      " #   Column       Non-Null Count  Dtype  \n",
      "---  ------       --------------  -----  \n",
      " 0   COD_DISBAR   365 non-null    float64\n",
      " 1   BARRIOS      365 non-null    object \n",
      " 2   RENTA_MEDIA  365 non-null    float64\n",
      " 3   ANIO         365 non-null    int64  \n",
      " 4   LATITUD      365 non-null    float64\n",
      " 5   LONGITUD     365 non-null    float64\n",
      "dtypes: float64(4), int64(1), object(1)\n",
      "memory usage: 20.0+ KB\n"
     ]
    }
   ],
   "source": [
    "#Verifica información del dataset\n",
    "dfRentaSeleccionado.info()"
   ]
  },
  {
   "cell_type": "code",
   "execution_count": 15,
   "id": "dae44b4e-e163-4c9b-9d82-fa05ea5ffeee",
   "metadata": {},
   "outputs": [],
   "source": [
    "# Escribe excel en nivel 3\n",
    "\n",
    "# Save dataset para rentas\n",
    "dfRentaSeleccionado = dfRentaSeleccionado.astype({\"COD_DISBAR\":'int'}) \n",
    "dfRentaSeleccionado['RENTA_MEDIA'] = dfRentaSeleccionado['RENTA_MEDIA'].round(decimals=2)\n",
    "\n",
    "dfRentaSeleccionado.to_csv('../../data_preprocesada_N3/clean_renta_barrios.csv', index=False)\n"
   ]
  },
  {
   "cell_type": "markdown",
   "id": "5265d954-d53a-4d67-a129-479a4ea3b4e5",
   "metadata": {},
   "source": [
    "## <span style=\"color:blue\">Indicador Extranjeros</span>\n"
   ]
  },
  {
   "cell_type": "code",
   "execution_count": 17,
   "id": "08d240db-b0d3-40d5-b508-8ecc711f803a",
   "metadata": {},
   "outputs": [],
   "source": [
    "# Lectura del Excel Extranjeros\n",
    "dfExtranjeros = pd.read_excel('../../data_preprocesada_N2/nro_extranjeros_barrios_madrid.xlsx')\n",
    "\n",
    "# # Selecciona columnas importantes\n",
    "dfExtranjerosSeleccionado = dfExtranjeros[[\n",
    "                        'COD_DISBAR', \n",
    "                        'BARRIOS', \n",
    "                        'NRO_PERSONAS', \n",
    "                        'ANIO', \n",
    "                        'LATITUD', \n",
    "                        'LONGITUD']]"
   ]
  },
  {
   "cell_type": "code",
   "execution_count": 19,
   "id": "26c6f153-b225-467d-9ef1-13324ca54049",
   "metadata": {},
   "outputs": [
    {
     "name": "stdout",
     "output_type": "stream",
     "text": [
      "Número de Filas:  536\n"
     ]
    }
   ],
   "source": [
    "# Número de filas\n",
    "print('Número de Filas: ', dfExtranjerosSeleccionado.shape[0])"
   ]
  },
  {
   "cell_type": "code",
   "execution_count": 20,
   "id": "fa0e9ad3-9898-4707-aad9-3d2f8e146690",
   "metadata": {},
   "outputs": [
    {
     "data": {
      "text/plain": [
       "COD_DISBAR      168\n",
       "BARRIOS           0\n",
       "NRO_PERSONAS     79\n",
       "ANIO              0\n",
       "LATITUD         168\n",
       "LONGITUD        168\n",
       "dtype: int64"
      ]
     },
     "execution_count": 20,
     "metadata": {},
     "output_type": "execute_result"
    }
   ],
   "source": [
    "# Calcular el número de valores \"missing values\" de cada variable.\n",
    "dfExtranjerosSeleccionado.isna().sum()\n"
   ]
  },
  {
   "cell_type": "code",
   "execution_count": 21,
   "id": "3470d764-fec0-4792-994d-e4f5ad1cd1a1",
   "metadata": {},
   "outputs": [],
   "source": [
    "# Elimina \"missing values\"\n",
    "dfExtranjerosSeleccionado = dfExtranjerosSeleccionado.dropna()"
   ]
  },
  {
   "cell_type": "code",
   "execution_count": 26,
   "id": "c2848449-66ef-4c63-a647-56428ac51a28",
   "metadata": {},
   "outputs": [
    {
     "data": {
      "text/plain": [
       "COD_DISBAR      0\n",
       "BARRIOS         0\n",
       "NRO_PERSONAS    0\n",
       "ANIO            0\n",
       "LATITUD         0\n",
       "LONGITUD        0\n",
       "dtype: int64"
      ]
     },
     "execution_count": 26,
     "metadata": {},
     "output_type": "execute_result"
    }
   ],
   "source": [
    "# Calcular el número de valores \"missing values\" de cada variable.\n",
    "dfExtranjerosSeleccionado.isna().sum()"
   ]
  },
  {
   "cell_type": "code",
   "execution_count": 27,
   "id": "5f8ac2c4-a883-4754-a1b2-26534681786f",
   "metadata": {},
   "outputs": [
    {
     "name": "stdout",
     "output_type": "stream",
     "text": [
      "Número de Filas:  368\n"
     ]
    }
   ],
   "source": [
    "print('Número de Filas: ', dfExtranjerosSeleccionado.shape[0])"
   ]
  },
  {
   "cell_type": "code",
   "execution_count": 28,
   "id": "7663c5c7-09d2-4480-834a-f7ba02a546da",
   "metadata": {},
   "outputs": [
    {
     "name": "stdout",
     "output_type": "stream",
     "text": [
      "<class 'pandas.core.frame.DataFrame'>\n",
      "Int64Index: 368 entries, 1 to 535\n",
      "Data columns (total 6 columns):\n",
      " #   Column        Non-Null Count  Dtype  \n",
      "---  ------        --------------  -----  \n",
      " 0   COD_DISBAR    368 non-null    float64\n",
      " 1   BARRIOS       368 non-null    object \n",
      " 2   NRO_PERSONAS  368 non-null    float64\n",
      " 3   ANIO          368 non-null    int64  \n",
      " 4   LATITUD       368 non-null    float64\n",
      " 5   LONGITUD      368 non-null    float64\n",
      "dtypes: float64(4), int64(1), object(1)\n",
      "memory usage: 20.1+ KB\n"
     ]
    }
   ],
   "source": [
    "#Verifica información del dataset\n",
    "dfExtranjerosSeleccionado.info()"
   ]
  },
  {
   "cell_type": "code",
   "execution_count": 29,
   "id": "5f235522-559e-46e0-950e-8567aefaa096",
   "metadata": {},
   "outputs": [],
   "source": [
    "# Escribe excel en nivel 3\n",
    "\n",
    "# Save dataset para extranjeros\n",
    "dfExtranjerosSeleccionado = dfExtranjerosSeleccionado.astype({\"COD_DISBAR\":'int'}) \n",
    "dfExtranjerosSeleccionado['NRO_PERSONAS'] = dfExtranjerosSeleccionado['NRO_PERSONAS'].round(decimals=2)\n",
    "\n",
    "dfExtranjerosSeleccionado.to_csv('../../data_preprocesada_N3/clean_extranjeros_barrios.csv', index=False)\n"
   ]
  },
  {
   "cell_type": "markdown",
   "id": "291c3aea-9058-40be-b766-a353a4f70165",
   "metadata": {},
   "source": [
    "## <span style=\"color:blue\">Indicador Nro. Habitantes por vivienda</span>\n"
   ]
  },
  {
   "cell_type": "code",
   "execution_count": 2,
   "id": "e3dabe1b-8e6d-40db-90c6-a749151d3a55",
   "metadata": {},
   "outputs": [],
   "source": [
    "# Lectura del Excel Media de Habitantes Vivienda\n",
    "dfNroHabitantes = pd.read_excel('../../data_preprocesada_N2/size_medio_hogares_barrios_madrid.xlsx')\n",
    "\n",
    "# # Selecciona columnas importantes\n",
    "dfNroHabitantesSeleccionado = dfNroHabitantes[[\n",
    "                        'COD_DISBAR', \n",
    "                        'BARRIOS', \n",
    "                        'NRO_MEDIA_PERSONAS', \n",
    "                        'ANIO', \n",
    "                        'LATITUD', \n",
    "                        'LONGITUD']]"
   ]
  },
  {
   "cell_type": "code",
   "execution_count": 3,
   "id": "5ea3f936-b9e2-4627-a1e2-2c6ec02e3cb9",
   "metadata": {},
   "outputs": [
    {
     "name": "stdout",
     "output_type": "stream",
     "text": [
      "Número de Filas:  536\n"
     ]
    }
   ],
   "source": [
    "# Número de filas\n",
    "print('Número de Filas: ', dfNroHabitantesSeleccionado.shape[0])"
   ]
  },
  {
   "cell_type": "code",
   "execution_count": 4,
   "id": "0c87cb8c-444f-4573-87c8-43b8f8f14649",
   "metadata": {},
   "outputs": [
    {
     "data": {
      "text/plain": [
       "COD_DISBAR            168\n",
       "BARRIOS                 0\n",
       "NRO_MEDIA_PERSONAS     74\n",
       "ANIO                    0\n",
       "LATITUD               168\n",
       "LONGITUD              168\n",
       "dtype: int64"
      ]
     },
     "execution_count": 4,
     "metadata": {},
     "output_type": "execute_result"
    }
   ],
   "source": [
    "# Calcular el número de valores \"missing values\" de cada variable.\n",
    "dfNroHabitantesSeleccionado.isna().sum()\n"
   ]
  },
  {
   "cell_type": "code",
   "execution_count": 5,
   "id": "1d62a563-5683-4fe7-a3a7-1169ca5d2881",
   "metadata": {},
   "outputs": [],
   "source": [
    "# Elimina \"missing values\"\n",
    "dfNroHabitantesSeleccionado = dfNroHabitantesSeleccionado.dropna()"
   ]
  },
  {
   "cell_type": "code",
   "execution_count": 6,
   "id": "c83759d8-bab7-46cf-a8f3-01fb93e4c21b",
   "metadata": {},
   "outputs": [
    {
     "data": {
      "text/plain": [
       "COD_DISBAR            0\n",
       "BARRIOS               0\n",
       "NRO_MEDIA_PERSONAS    0\n",
       "ANIO                  0\n",
       "LATITUD               0\n",
       "LONGITUD              0\n",
       "dtype: int64"
      ]
     },
     "execution_count": 6,
     "metadata": {},
     "output_type": "execute_result"
    }
   ],
   "source": [
    "# Calcular el número de valores \"missing values\" de cada variable.\n",
    "dfNroHabitantesSeleccionado.isna().sum()"
   ]
  },
  {
   "cell_type": "code",
   "execution_count": 7,
   "id": "c085a1a4-2cd7-4282-be1f-0fe800e9e690",
   "metadata": {},
   "outputs": [
    {
     "name": "stdout",
     "output_type": "stream",
     "text": [
      "Número de Filas:  368\n"
     ]
    }
   ],
   "source": [
    "print('Número de Filas: ', dfNroHabitantesSeleccionado.shape[0])"
   ]
  },
  {
   "cell_type": "code",
   "execution_count": 8,
   "id": "9620a0ec-dfd7-42fd-8f00-564312ec5d45",
   "metadata": {},
   "outputs": [
    {
     "name": "stdout",
     "output_type": "stream",
     "text": [
      "<class 'pandas.core.frame.DataFrame'>\n",
      "Int64Index: 368 entries, 1 to 535\n",
      "Data columns (total 6 columns):\n",
      " #   Column              Non-Null Count  Dtype  \n",
      "---  ------              --------------  -----  \n",
      " 0   COD_DISBAR          368 non-null    float64\n",
      " 1   BARRIOS             368 non-null    object \n",
      " 2   NRO_MEDIA_PERSONAS  368 non-null    float64\n",
      " 3   ANIO                368 non-null    int64  \n",
      " 4   LATITUD             368 non-null    float64\n",
      " 5   LONGITUD            368 non-null    float64\n",
      "dtypes: float64(4), int64(1), object(1)\n",
      "memory usage: 20.1+ KB\n"
     ]
    }
   ],
   "source": [
    "#Verifica información del dataset\n",
    "dfNroHabitantesSeleccionado.info()"
   ]
  },
  {
   "cell_type": "code",
   "execution_count": 9,
   "id": "549b7367-c29e-4d02-9a14-f96c35cae081",
   "metadata": {},
   "outputs": [],
   "source": [
    "# Escribe excel en nivel 3\n",
    "\n",
    "# Save dataset para Nro. de Personas por habitacion\n",
    "dfNroHabitantesSeleccionado = dfNroHabitantesSeleccionado.astype({\"COD_DISBAR\":'int'}) \n",
    "dfNroHabitantesSeleccionado['NRO_MEDIA_PERSONAS'] = dfNroHabitantesSeleccionado['NRO_MEDIA_PERSONAS'].round(decimals=2)\n",
    "\n",
    "dfNroHabitantesSeleccionado.to_csv('../../data_preprocesada_N3/clean_habitantes_vivienda_barrios.csv', index=False)\n"
   ]
  },
  {
   "cell_type": "markdown",
   "id": "7dfcf6b7-b257-47b9-89b6-8c588c15b514",
   "metadata": {},
   "source": [
    "## <span style=\"color:blue\">Indicador Nro. Desempleados</span>\n"
   ]
  },
  {
   "cell_type": "code",
   "execution_count": 10,
   "id": "83aa5d0d-2fa8-40ae-b4d0-36fc5546738b",
   "metadata": {},
   "outputs": [],
   "source": [
    "# Lectura del Excel Desempelados\n",
    "dfDesempleados = pd.read_excel('../../data_preprocesada_N2/desempleados_barrios_madrid.xlsx')\n",
    "\n",
    "# # Selecciona columnas importantes\n",
    "dfDesempleadosSeleccionado = dfDesempleados[[\n",
    "                        'COD_DISBAR', \n",
    "                        'BARRIOS', \n",
    "                        'NRO_PERSONAS', \n",
    "                        'ANIO', \n",
    "                        'LATITUD', \n",
    "                        'LONGITUD']]"
   ]
  },
  {
   "cell_type": "code",
   "execution_count": 11,
   "id": "ac5a57a5-9d7a-466f-90f4-79f4844d1799",
   "metadata": {},
   "outputs": [
    {
     "name": "stdout",
     "output_type": "stream",
     "text": [
      "Número de Filas:  536\n"
     ]
    }
   ],
   "source": [
    "# Número de filas\n",
    "print('Número de Filas: ', dfDesempleadosSeleccionado.shape[0])"
   ]
  },
  {
   "cell_type": "code",
   "execution_count": 12,
   "id": "d896aea9-c729-4d57-a2e9-e7a6d70d9147",
   "metadata": {},
   "outputs": [
    {
     "data": {
      "text/plain": [
       "COD_DISBAR      168\n",
       "BARRIOS           0\n",
       "NRO_PERSONAS     78\n",
       "ANIO              0\n",
       "LATITUD         168\n",
       "LONGITUD        168\n",
       "dtype: int64"
      ]
     },
     "execution_count": 12,
     "metadata": {},
     "output_type": "execute_result"
    }
   ],
   "source": [
    "# Calcular el número de valores \"missing values\" de cada variable.\n",
    "dfDesempleadosSeleccionado.isna().sum()\n"
   ]
  },
  {
   "cell_type": "code",
   "execution_count": 13,
   "id": "663adffe-9789-4f00-b437-044f6554635e",
   "metadata": {},
   "outputs": [],
   "source": [
    "# Elimina \"missing values\"\n",
    "dfDesempleadosSeleccionado = dfDesempleadosSeleccionado.dropna()"
   ]
  },
  {
   "cell_type": "code",
   "execution_count": 14,
   "id": "3b05c0ea-b320-4581-9a54-5e428b5f3a6d",
   "metadata": {},
   "outputs": [
    {
     "data": {
      "text/plain": [
       "COD_DISBAR      0\n",
       "BARRIOS         0\n",
       "NRO_PERSONAS    0\n",
       "ANIO            0\n",
       "LATITUD         0\n",
       "LONGITUD        0\n",
       "dtype: int64"
      ]
     },
     "execution_count": 14,
     "metadata": {},
     "output_type": "execute_result"
    }
   ],
   "source": [
    "# Calcular el número de valores \"missing values\" de cada variable.\n",
    "dfDesempleadosSeleccionado.isna().sum()\n"
   ]
  },
  {
   "cell_type": "code",
   "execution_count": 15,
   "id": "6b8e8419-60b0-4bcb-8af9-127a84c8b8e4",
   "metadata": {},
   "outputs": [
    {
     "name": "stdout",
     "output_type": "stream",
     "text": [
      "Número de Filas:  368\n"
     ]
    }
   ],
   "source": [
    "print('Número de Filas: ', dfDesempleadosSeleccionado.shape[0])"
   ]
  },
  {
   "cell_type": "code",
   "execution_count": 16,
   "id": "1396e306-1436-4148-9314-6022711226c0",
   "metadata": {},
   "outputs": [
    {
     "name": "stdout",
     "output_type": "stream",
     "text": [
      "<class 'pandas.core.frame.DataFrame'>\n",
      "Int64Index: 368 entries, 1 to 535\n",
      "Data columns (total 6 columns):\n",
      " #   Column        Non-Null Count  Dtype  \n",
      "---  ------        --------------  -----  \n",
      " 0   COD_DISBAR    368 non-null    float64\n",
      " 1   BARRIOS       368 non-null    object \n",
      " 2   NRO_PERSONAS  368 non-null    float64\n",
      " 3   ANIO          368 non-null    int64  \n",
      " 4   LATITUD       368 non-null    float64\n",
      " 5   LONGITUD      368 non-null    float64\n",
      "dtypes: float64(4), int64(1), object(1)\n",
      "memory usage: 20.1+ KB\n"
     ]
    }
   ],
   "source": [
    "#Verifica información del dataset\n",
    "dfDesempleadosSeleccionado.info()"
   ]
  },
  {
   "cell_type": "code",
   "execution_count": 17,
   "id": "a194740e-3c2a-4986-bb23-75105232030b",
   "metadata": {},
   "outputs": [],
   "source": [
    "# Escribe excel en nivel 3\n",
    "\n",
    "# Save dataset para Desempleados\n",
    "dfDesempleadosSeleccionado = dfDesempleadosSeleccionado.astype({\"COD_DISBAR\":'int'}) \n",
    "dfDesempleadosSeleccionado['NRO_PERSONAS'] = dfDesempleadosSeleccionado['NRO_PERSONAS'].round(decimals=2)\n",
    "\n",
    "dfDesempleadosSeleccionado.to_csv('../../data_preprocesada_N3/clean_desempleados_barrios.csv', index=False)\n"
   ]
  },
  {
   "cell_type": "markdown",
   "id": "aaa7caf6-28f9-45d8-9c40-150f9d16e381",
   "metadata": {},
   "source": [
    "## <span style=\"color:blue\">Indicador Nro. Precio viviendas</span>\n"
   ]
  },
  {
   "cell_type": "code",
   "execution_count": 74,
   "id": "bd8c8761-0348-47b3-b002-f619a90bde92",
   "metadata": {},
   "outputs": [],
   "source": [
    "# Lectura del Excel Desempelados\n",
    "dfPrecioVivienda = pd.read_excel('../../data_preprocesada_N2/precio_vivienda_barrios_madrid.xlsx')\n",
    "\n",
    "# # Selecciona columnas importantes\n",
    "dfPrecioViviendaSeleccionado = dfPrecioVivienda[[\n",
    "                        'COD_DISBAR', \n",
    "                        'BARRIOS', \n",
    "                        'TIPO_VIVIENDA',\n",
    "                        'PRECIO(EUROS/M2)', \n",
    "                        'ANIO', \n",
    "                        'LATITUD', \n",
    "                        'LONGITUD']]"
   ]
  },
  {
   "cell_type": "code",
   "execution_count": 75,
   "id": "9f6fa8b5-7e41-403f-ba63-bfdd5df89149",
   "metadata": {},
   "outputs": [
    {
     "name": "stdout",
     "output_type": "stream",
     "text": [
      "Número de Filas:  906\n"
     ]
    }
   ],
   "source": [
    "# Número de filas\n",
    "print('Número de Filas: ', dfPrecioViviendaSeleccionado.shape[0])"
   ]
  },
  {
   "cell_type": "code",
   "execution_count": 76,
   "id": "36cc208f-bae3-4c48-ae4d-81503f55a4db",
   "metadata": {},
   "outputs": [
    {
     "data": {
      "text/plain": [
       "COD_DISBAR          134\n",
       "BARRIOS               0\n",
       "TIPO_VIVIENDA         0\n",
       "PRECIO(EUROS/M2)      0\n",
       "ANIO                  0\n",
       "LATITUD             134\n",
       "LONGITUD            134\n",
       "dtype: int64"
      ]
     },
     "execution_count": 76,
     "metadata": {},
     "output_type": "execute_result"
    }
   ],
   "source": [
    "# Calcular el número de valores \"missing values\" de cada variable.\n",
    "dfPrecioViviendaSeleccionado.isna().sum()\n"
   ]
  },
  {
   "cell_type": "code",
   "execution_count": 77,
   "id": "bcae4089-b0cf-435a-a8dc-eef34aa056e7",
   "metadata": {},
   "outputs": [],
   "source": [
    "# Elimina \"missing values\"\n",
    "dfPrecioViviendaSeleccionado = dfPrecioViviendaSeleccionado.dropna()"
   ]
  },
  {
   "cell_type": "code",
   "execution_count": 78,
   "id": "9cb6f840-4124-475a-b9e6-5e33244864d2",
   "metadata": {},
   "outputs": [
    {
     "data": {
      "text/plain": [
       "COD_DISBAR          0\n",
       "BARRIOS             0\n",
       "TIPO_VIVIENDA       0\n",
       "PRECIO(EUROS/M2)    0\n",
       "ANIO                0\n",
       "LATITUD             0\n",
       "LONGITUD            0\n",
       "dtype: int64"
      ]
     },
     "execution_count": 78,
     "metadata": {},
     "output_type": "execute_result"
    }
   ],
   "source": [
    "# Calcular el número de valores \"missing values\" de cada variable.\n",
    "dfPrecioViviendaSeleccionado.isna().sum()\n"
   ]
  },
  {
   "cell_type": "code",
   "execution_count": 79,
   "id": "9ce08c08-ab1b-408b-81e0-4ef85420e7dd",
   "metadata": {},
   "outputs": [
    {
     "name": "stdout",
     "output_type": "stream",
     "text": [
      "Número de Filas:  772\n"
     ]
    }
   ],
   "source": [
    "print('Número de Filas: ', dfPrecioViviendaSeleccionado.shape[0])"
   ]
  },
  {
   "cell_type": "code",
   "execution_count": 80,
   "id": "806e50bc-9307-4069-8a35-b38e2925cda5",
   "metadata": {},
   "outputs": [
    {
     "name": "stdout",
     "output_type": "stream",
     "text": [
      "<class 'pandas.core.frame.DataFrame'>\n",
      "Int64Index: 772 entries, 1 to 905\n",
      "Data columns (total 7 columns):\n",
      " #   Column            Non-Null Count  Dtype  \n",
      "---  ------            --------------  -----  \n",
      " 0   COD_DISBAR        772 non-null    float64\n",
      " 1   BARRIOS           772 non-null    object \n",
      " 2   TIPO_VIVIENDA     772 non-null    object \n",
      " 3   PRECIO(EUROS/M2)  772 non-null    object \n",
      " 4   ANIO              772 non-null    int64  \n",
      " 5   LATITUD           772 non-null    float64\n",
      " 6   LONGITUD          772 non-null    float64\n",
      "dtypes: float64(3), int64(1), object(3)\n",
      "memory usage: 48.2+ KB\n"
     ]
    }
   ],
   "source": [
    "#Verifica información del dataset\n",
    "dfPrecioViviendaSeleccionado.info()"
   ]
  },
  {
   "cell_type": "code",
   "execution_count": 81,
   "id": "084ddb6b-8a8d-47c7-99f9-08f02f8d974a",
   "metadata": {},
   "outputs": [],
   "source": [
    "#  Escribe excel en nivel 3\n",
    "\n",
    "# Save dataset para Desempleados\n",
    "dfPrecioViviendaSeleccionado = dfPrecioViviendaSeleccionado.astype({\"COD_DISBAR\":'int'}) \n",
    "# Cast object to float\n",
    "dfPrecioViviendaSeleccionado['PRECIO(EUROS/M2)'] = (dfPrecioViviendaSeleccionado['PRECIO(EUROS/M2)'].str.split()).apply(lambda x: float(x[0].replace('.', '').replace(',', '.')))\n",
    "\n",
    "dfPrecioViviendaSeleccionado = dfPrecioViviendaSeleccionado.astype({'PRECIO(EUROS/M2)':'float'})\n",
    "\n",
    "dfPrecioViviendaSeleccionado['PRECIO(EUROS/M2)'] = dfPrecioViviendaSeleccionado['PRECIO(EUROS/M2)'].round(decimals=2)\n",
    "\n",
    "# Dataset para viviendas nuevas\n",
    "dfPrecioViviendaNueva = dfPrecioViviendaSeleccionado[dfPrecioViviendaSeleccionado['TIPO_VIVIENDA'].isin(['NUEVAS'])]\n",
    "dfPrecioViviendaNueva.to_csv('../../data_preprocesada_N3/clean_precios_vivienda_nuevas_barrios.csv', index=False)\n",
    "\n",
    "# Dataset para viviendas usadas\n",
    "dfPrecioViviendaUsada = dfPrecioViviendaSeleccionado[dfPrecioViviendaSeleccionado['TIPO_VIVIENDA'].isin(['USADAS'])]\n",
    "dfPrecioViviendaUsada.to_csv('../../data_preprocesada_N3/clean_precios_vivienda_usadas_barrios.csv', index=False)\n",
    "\n",
    "\n"
   ]
  },
  {
   "cell_type": "markdown",
   "id": "a0a62bc5-bf7a-4d6e-b1c8-d642f5a14a9e",
   "metadata": {},
   "source": [
    "## <span style=\"color:blue\">Indicador Nivel Educación</span>\n"
   ]
  },
  {
   "cell_type": "code",
   "execution_count": 184,
   "id": "2fd405d1-63d9-4801-94d0-d2eb8019f983",
   "metadata": {},
   "outputs": [],
   "source": [
    "# Lectura del Excel Desempelados\n",
    "dfNivelEducacion = pd.read_excel('../../data_preprocesada_N2/nivel_educación_barrios_madrid.xlsx')\n",
    "\n",
    "# # Selecciona columnas importantes\n",
    "dfNivelEducacionSeleccionado = dfNivelEducacion[[\n",
    "                        'COD_DISBAR', \n",
    "                        'BARRIOS', \n",
    "                        'NIVELES_EDUCACION',\n",
    "                        'NRO_PERSONAS', \n",
    "                        'ANIO', \n",
    "                        'LATITUD', \n",
    "                        'LONGITUD']]\n",
    "\n",
    "# Estandariza valor Rango Edad\n",
    "dfNivelEducacionSeleccionado.loc[dfNivelEducacionSeleccionado['NIVELES_EDUCACION'] == 'No sabe leer ni escribir, sin estudios o primaria incompleta', 'NIVELES_EDUCACION'] = 'SIN ESTUDIOS'\n",
    "dfNivelEducacionSeleccionado.loc[dfNivelEducacionSeleccionado['NIVELES_EDUCACION'] == 'No sabe leer ni escribir o sin estudios', 'NIVELES_EDUCACION'] = 'SIN ESTUDIOS'\n",
    "\n",
    "dfNivelEducacionSeleccionado.loc[dfNivelEducacionSeleccionado['NIVELES_EDUCACION'] == 'Bachiller Elemental, Graduado Escolar, ESO,Formación profesional primer grado', 'NIVELES_EDUCACION'] = 'SEGUNDO NIVEL'\n",
    "dfNivelEducacionSeleccionado.loc[dfNivelEducacionSeleccionado['NIVELES_EDUCACION'] == 'Bachiller Elemental, Graduado Escolar, ESO, Formación profesional 1º grado', 'NIVELES_EDUCACION'] = 'SEGUNDO NIVEL'\n",
    "\n",
    "dfNivelEducacionSeleccionado.loc[dfNivelEducacionSeleccionado['NIVELES_EDUCACION'] == 'Formación profesional 2º grado, Bachiller Superior o BUP', 'NIVELES_EDUCACION'] = 'SEGUNDO NIVEL'\n",
    "\n",
    "dfNivelEducacionSeleccionado.loc[dfNivelEducacionSeleccionado['NIVELES_EDUCACION'] == 'Titulados medios, Diplomados, Arquitecto o Ingeniero Técnico', 'NIVELES_EDUCACION'] = 'TERCER NIVEL Y SUPERIORES'\n",
    "dfNivelEducacionSeleccionado.loc[dfNivelEducacionSeleccionado['NIVELES_EDUCACION'] == 'Titulados medios, diplomados, arquitecto o ingeniero técnico', 'NIVELES_EDUCACION'] = 'TERCER NIVEL Y SUPERIORES'\n",
    "\n",
    "dfNivelEducacionSeleccionado.loc[dfNivelEducacionSeleccionado['NIVELES_EDUCACION'] == 'Estudios superiores, licenciado, Arquitecto o Ingeniero, estudios superiores no universitarios, doctorado, estudios postgraduados', 'NIVELES_EDUCACION'] = 'TERCER NIVEL Y SUPERIORES'\n",
    "dfNivelEducacionSeleccionado.loc[dfNivelEducacionSeleccionado['NIVELES_EDUCACION'] == 'Estudios superiores, licenciado, arquitecto o ingeniero superior, estudios superiores no universitarios, doctorado, estudios postgraduados', 'NIVELES_EDUCACION'] = 'TERCER NIVEL Y SUPERIORES'\n",
    "\n",
    "dfNivelEducacionSeleccionado.loc[dfNivelEducacionSeleccionado['NIVELES_EDUCACION'] == 'Primaria incompleta', 'NIVELES_EDUCACION'] = 'SIN ESTUDIOS'"
   ]
  },
  {
   "cell_type": "code",
   "execution_count": 185,
   "id": "53b79f0c-3c6c-4047-a001-e2a3155a90ee",
   "metadata": {},
   "outputs": [
    {
     "name": "stdout",
     "output_type": "stream",
     "text": [
      "Número de Filas:  3055\n"
     ]
    }
   ],
   "source": [
    "# Número de filas\n",
    "print('Número de Filas: ', dfNivelEducacionSeleccionado.shape[0])"
   ]
  },
  {
   "cell_type": "code",
   "execution_count": 186,
   "id": "275a96ad-a4bc-4709-bb15-6fef4a4dafdb",
   "metadata": {},
   "outputs": [
    {
     "data": {
      "text/plain": [
       "COD_DISBAR           973\n",
       "BARRIOS                0\n",
       "NIVELES_EDUCACION      0\n",
       "NRO_PERSONAS         456\n",
       "ANIO                   0\n",
       "LATITUD              973\n",
       "LONGITUD             973\n",
       "dtype: int64"
      ]
     },
     "execution_count": 186,
     "metadata": {},
     "output_type": "execute_result"
    }
   ],
   "source": [
    "# Calcular el número de valores \"missing values\" de cada variable.\n",
    "dfNivelEducacionSeleccionado.isna().sum()"
   ]
  },
  {
   "cell_type": "code",
   "execution_count": 187,
   "id": "10f48b98-1def-48a4-9aa6-e39c97214731",
   "metadata": {},
   "outputs": [],
   "source": [
    "# Elimina \"missing values\"\n",
    "dfNivelEducacionSeleccionado = dfNivelEducacionSeleccionado.dropna()"
   ]
  },
  {
   "cell_type": "code",
   "execution_count": 188,
   "id": "0cd84e01-7995-4211-8d6c-928fe355a401",
   "metadata": {},
   "outputs": [
    {
     "data": {
      "text/plain": [
       "COD_DISBAR           0\n",
       "BARRIOS              0\n",
       "NIVELES_EDUCACION    0\n",
       "NRO_PERSONAS         0\n",
       "ANIO                 0\n",
       "LATITUD              0\n",
       "LONGITUD             0\n",
       "dtype: int64"
      ]
     },
     "execution_count": 188,
     "metadata": {},
     "output_type": "execute_result"
    }
   ],
   "source": [
    "# Calcular el número de valores \"missing values\" de cada variable.\n",
    "dfNivelEducacionSeleccionado.isna().sum()\n"
   ]
  },
  {
   "cell_type": "code",
   "execution_count": 189,
   "id": "6bf59bcb-1047-4616-90e2-a5811f1586fa",
   "metadata": {},
   "outputs": [
    {
     "name": "stdout",
     "output_type": "stream",
     "text": [
      "Número de Filas:  2082\n"
     ]
    }
   ],
   "source": [
    "print('Número de Filas: ', dfNivelEducacionSeleccionado.shape[0])"
   ]
  },
  {
   "cell_type": "code",
   "execution_count": 190,
   "id": "b3a65888-d407-45c7-a2ba-0e7b16d619e7",
   "metadata": {},
   "outputs": [
    {
     "name": "stdout",
     "output_type": "stream",
     "text": [
      "<class 'pandas.core.frame.DataFrame'>\n",
      "Int64Index: 2082 entries, 5 to 3054\n",
      "Data columns (total 7 columns):\n",
      " #   Column             Non-Null Count  Dtype  \n",
      "---  ------             --------------  -----  \n",
      " 0   COD_DISBAR         2082 non-null   float64\n",
      " 1   BARRIOS            2082 non-null   object \n",
      " 2   NIVELES_EDUCACION  2082 non-null   object \n",
      " 3   NRO_PERSONAS       2082 non-null   float64\n",
      " 4   ANIO               2082 non-null   int64  \n",
      " 5   LATITUD            2082 non-null   float64\n",
      " 6   LONGITUD           2082 non-null   float64\n",
      "dtypes: float64(4), int64(1), object(2)\n",
      "memory usage: 130.1+ KB\n"
     ]
    }
   ],
   "source": [
    "#Verifica información del dataset\n",
    "dfNivelEducacionSeleccionado.info()"
   ]
  },
  {
   "cell_type": "code",
   "execution_count": 191,
   "id": "7d9f0f73-42dd-4d15-95af-2a508e025fe8",
   "metadata": {},
   "outputs": [],
   "source": [
    "# Escribe excel en nivel 3\n",
    "\n",
    "# Selecciona dataset para educación superior\n",
    "dfNvlEduClean = dfNivelEducacionSeleccionado[dfNivelEducacionSeleccionado['NIVELES_EDUCACION'].isin(['TERCER NIVEL Y SUPERIORES'])]\n",
    "dfNvlEduClean = dfNvlEduClean.groupby(['COD_DISBAR', 'BARRIOS', 'ANIO', 'LATITUD', 'LONGITUD'],as_index=False).sum()\n",
    "dfNvlEduClean = dfNvlEduClean.astype({\"COD_DISBAR\":'int'}) \n",
    "\n",
    "dfNvlEduClean.to_csv('../../data_preprocesada_N3/clean_edu_superior_barrios.csv', index=False)\n"
   ]
  },
  {
   "cell_type": "markdown",
   "id": "14c2491a-53f0-4b6f-8464-3cebd58ef5b0",
   "metadata": {},
   "source": [
    "## <span style=\"color:blue\">Indicador Hospedaje </span>\n"
   ]
  },
  {
   "cell_type": "code",
   "execution_count": 61,
   "id": "2189654f-52cf-4cc7-bf79-2090ccfc02fb",
   "metadata": {},
   "outputs": [],
   "source": [
    "# Lectura del Excel Desempelados\n",
    "dfHospedeja = pd.read_excel('../../data_preprocesada_N2/hospedaje_barrios_madrid.xlsx')\n",
    "\n",
    "# # Selecciona columnas importantes\n",
    "dfHospedejaSeleccionado = dfHospedeja[[\n",
    "                        'COD_DISBAR', \n",
    "                        'BARRIOS', \n",
    "                        'ANIO', \n",
    "                        'LATITUD', \n",
    "                        'LONGITUD', 'LATITUD_H', 'LONGITUD_H']]"
   ]
  },
  {
   "cell_type": "code",
   "execution_count": 62,
   "id": "28ad3577-3c3b-41a2-888d-c90f5df03a88",
   "metadata": {},
   "outputs": [
    {
     "name": "stdout",
     "output_type": "stream",
     "text": [
      "Número de Filas:  15369\n"
     ]
    }
   ],
   "source": [
    "# Número de filas\n",
    "print('Número de Filas: ', dfHospedejaSeleccionado.shape[0])"
   ]
  },
  {
   "cell_type": "code",
   "execution_count": 63,
   "id": "cfaa5a24-0964-4c5f-9b5b-db84e701eb49",
   "metadata": {},
   "outputs": [
    {
     "data": {
      "text/plain": [
       "COD_DISBAR    32\n",
       "BARRIOS        0\n",
       "ANIO           0\n",
       "LATITUD       32\n",
       "LONGITUD      32\n",
       "LATITUD_H      0\n",
       "LONGITUD_H     0\n",
       "dtype: int64"
      ]
     },
     "execution_count": 63,
     "metadata": {},
     "output_type": "execute_result"
    }
   ],
   "source": [
    "# Calcular el número de valores \"missing values\" de cada variable.\n",
    "dfHospedejaSeleccionado.isna().sum()"
   ]
  },
  {
   "cell_type": "code",
   "execution_count": 64,
   "id": "a58db719-f08f-470d-87a7-7de3d014e018",
   "metadata": {},
   "outputs": [],
   "source": [
    "# Elimina \"missing values\"\n",
    "dfHospedejaSeleccionado = dfHospedejaSeleccionado.dropna()"
   ]
  },
  {
   "cell_type": "code",
   "execution_count": 65,
   "id": "4bd171f6-11a3-4ba1-ad63-faa109683ea3",
   "metadata": {},
   "outputs": [
    {
     "data": {
      "text/plain": [
       "COD_DISBAR    0\n",
       "BARRIOS       0\n",
       "ANIO          0\n",
       "LATITUD       0\n",
       "LONGITUD      0\n",
       "LATITUD_H     0\n",
       "LONGITUD_H    0\n",
       "dtype: int64"
      ]
     },
     "execution_count": 65,
     "metadata": {},
     "output_type": "execute_result"
    }
   ],
   "source": [
    "# Calcular el número de valores \"missing values\" de cada variable.\n",
    "dfHospedejaSeleccionado.isna().sum()\n"
   ]
  },
  {
   "cell_type": "code",
   "execution_count": 66,
   "id": "637cd7fe-3aab-4694-8755-676ba44b68c2",
   "metadata": {},
   "outputs": [
    {
     "name": "stdout",
     "output_type": "stream",
     "text": [
      "Número de Filas:  15337\n"
     ]
    }
   ],
   "source": [
    "print('Número de Filas: ', dfHospedejaSeleccionado.shape[0])"
   ]
  },
  {
   "cell_type": "code",
   "execution_count": 67,
   "id": "91d17973-87ba-487f-9410-df7e144668e9",
   "metadata": {},
   "outputs": [
    {
     "name": "stdout",
     "output_type": "stream",
     "text": [
      "<class 'pandas.core.frame.DataFrame'>\n",
      "Int64Index: 15337 entries, 0 to 15367\n",
      "Data columns (total 7 columns):\n",
      " #   Column      Non-Null Count  Dtype  \n",
      "---  ------      --------------  -----  \n",
      " 0   COD_DISBAR  15337 non-null  float64\n",
      " 1   BARRIOS     15337 non-null  object \n",
      " 2   ANIO        15337 non-null  int64  \n",
      " 3   LATITUD     15337 non-null  float64\n",
      " 4   LONGITUD    15337 non-null  float64\n",
      " 5   LATITUD_H   15337 non-null  float64\n",
      " 6   LONGITUD_H  15337 non-null  float64\n",
      "dtypes: float64(5), int64(1), object(1)\n",
      "memory usage: 958.6+ KB\n"
     ]
    }
   ],
   "source": [
    "#Verifica información del dataset\n",
    "dfHospedejaSeleccionado.info()"
   ]
  },
  {
   "cell_type": "code",
   "execution_count": 68,
   "id": "d5f7770b-fda0-41bb-83fa-e4ac44f2701e",
   "metadata": {},
   "outputs": [],
   "source": [
    "# Escribe excel en nivel 3\n",
    "\n",
    "# Eliminar duplicados hospedaje 2016\n",
    "dfHospedajeClean2016 = dfHospedejaSeleccionado[dfHospedejaSeleccionado['ANIO'].isin([2016])]\n",
    "dfHospedajeClean2016 = dfHospedajeClean2016.drop_duplicates(subset=['LATITUD_H', 'LONGITUD_H'])\n",
    "\n",
    "# Eliminar duplicados hospedaje 2018\n",
    "dfHospedajeClean2018 = dfHospedejaSeleccionado[dfHospedejaSeleccionado['ANIO'].isin([2018])]\n",
    "dfHospedajeClean2018 = dfHospedajeClean2018.drop_duplicates(subset=['LATITUD_H', 'LONGITUD_H'])\n",
    "\n",
    "# Eliminar duplicados hospedaje 2019\n",
    "dfHospedajeClean2019 = dfHospedejaSeleccionado[dfHospedejaSeleccionado['ANIO'].isin([2019])]\n",
    "dfHospedajeClean2019 = dfHospedajeClean2019.drop_duplicates(subset=['LATITUD_H', 'LONGITUD_H'])\n",
    "\n",
    "dfHospedajeCleanSelect = pd.DataFrame()\n",
    "lstFrames = [dfHospedajeClean2016, dfHospedajeClean2018, dfHospedajeClean2019]\n",
    "dfHospedajeCleanSelect = pd.concat(lstFrames)\n",
    "\n",
    "# Contea datset numero de hospedajes por barrio y anio\n",
    "dfHospedajeClean = dfHospedajeCleanSelect.groupby(['COD_DISBAR', 'BARRIOS', 'ANIO']).size().reset_index(name='NRO_HOSPEDAJES')\n",
    "dfHospedajeClean = dfHospedajeClean.astype({\"COD_DISBAR\":'int'}) \n",
    "\n",
    "dfHospedajeClean.to_csv('../../data_preprocesada_N3/clean_hospedaje_barrios.csv', index=False)\n"
   ]
  },
  {
   "cell_type": "markdown",
   "id": "caa893a1-ef51-4c86-ab1c-70dd5979d2a3",
   "metadata": {},
   "source": [
    "## <span style=\"color:blue\">Indicador Terrazas </span>\n"
   ]
  },
  {
   "cell_type": "code",
   "execution_count": 79,
   "id": "a2b2d01e-4ee9-44a6-baa5-02d3f6ae2718",
   "metadata": {},
   "outputs": [],
   "source": [
    "# Lectura del Excel Desempelados\n",
    "dfTerrazas = pd.read_excel('../../data_preprocesada_N2/terrazas_barrios_madrid.xlsx')\n",
    "\n",
    "# # Selecciona columnas importantes\n",
    "dfTerrazasSeleccionado = dfTerrazas[[\n",
    "                        'COD_DISBAR', \n",
    "                        'BARRIOS', \n",
    "                        'ANIO', \n",
    "                        'LATITUD', \n",
    "                        'LONGITUD', 'LATITUD_T', 'LONGITUD_T']]"
   ]
  },
  {
   "cell_type": "code",
   "execution_count": 80,
   "id": "871b6cec-e386-49ca-8b62-10c812f11cc7",
   "metadata": {},
   "outputs": [
    {
     "name": "stdout",
     "output_type": "stream",
     "text": [
      "Número de Filas:  10692\n"
     ]
    }
   ],
   "source": [
    "# Número de filas\n",
    "print('Número de Filas: ', dfTerrazasSeleccionado.shape[0])"
   ]
  },
  {
   "cell_type": "code",
   "execution_count": 81,
   "id": "3a5a7a4c-cdd9-40ed-87d2-ff0d35eab59e",
   "metadata": {},
   "outputs": [
    {
     "data": {
      "text/plain": [
       "COD_DISBAR    108\n",
       "BARRIOS         0\n",
       "ANIO            0\n",
       "LATITUD       108\n",
       "LONGITUD      108\n",
       "LATITUD_T       0\n",
       "LONGITUD_T      0\n",
       "dtype: int64"
      ]
     },
     "execution_count": 81,
     "metadata": {},
     "output_type": "execute_result"
    }
   ],
   "source": [
    "# Calcular el número de valores \"missing values\" de cada variable.\n",
    "dfTerrazasSeleccionado.isna().sum()"
   ]
  },
  {
   "cell_type": "code",
   "execution_count": 82,
   "id": "aa0e7a06-06b7-4517-a993-20458ec477ac",
   "metadata": {},
   "outputs": [],
   "source": [
    "# Elimina \"missing values\"\n",
    "dfTerrazasSeleccionado = dfTerrazasSeleccionado.dropna()"
   ]
  },
  {
   "cell_type": "code",
   "execution_count": 83,
   "id": "0c8d1287-638f-42cc-a4d7-a1c1c43c5399",
   "metadata": {},
   "outputs": [
    {
     "data": {
      "text/plain": [
       "COD_DISBAR    0\n",
       "BARRIOS       0\n",
       "ANIO          0\n",
       "LATITUD       0\n",
       "LONGITUD      0\n",
       "LATITUD_T     0\n",
       "LONGITUD_T    0\n",
       "dtype: int64"
      ]
     },
     "execution_count": 83,
     "metadata": {},
     "output_type": "execute_result"
    }
   ],
   "source": [
    "# Calcular el número de valores \"missing values\" de cada variable.\n",
    "dfTerrazasSeleccionado.isna().sum()"
   ]
  },
  {
   "cell_type": "code",
   "execution_count": 84,
   "id": "d44234a5-f357-4d4e-8461-e809e9961a06",
   "metadata": {},
   "outputs": [
    {
     "name": "stdout",
     "output_type": "stream",
     "text": [
      "Número de Filas:  10584\n"
     ]
    }
   ],
   "source": [
    "print('Número de Filas: ', dfTerrazasSeleccionado.shape[0])"
   ]
  },
  {
   "cell_type": "code",
   "execution_count": 85,
   "id": "b1b2f9e3-9149-4066-ad4f-88821cecd348",
   "metadata": {},
   "outputs": [
    {
     "name": "stdout",
     "output_type": "stream",
     "text": [
      "<class 'pandas.core.frame.DataFrame'>\n",
      "Int64Index: 10584 entries, 0 to 10690\n",
      "Data columns (total 7 columns):\n",
      " #   Column      Non-Null Count  Dtype  \n",
      "---  ------      --------------  -----  \n",
      " 0   COD_DISBAR  10584 non-null  float64\n",
      " 1   BARRIOS     10584 non-null  object \n",
      " 2   ANIO        10584 non-null  int64  \n",
      " 3   LATITUD     10584 non-null  float64\n",
      " 4   LONGITUD    10584 non-null  float64\n",
      " 5   LATITUD_T   10584 non-null  object \n",
      " 6   LONGITUD_T  10584 non-null  object \n",
      "dtypes: float64(3), int64(1), object(3)\n",
      "memory usage: 661.5+ KB\n"
     ]
    }
   ],
   "source": [
    "#Verifica información del dataset\n",
    "dfTerrazasSeleccionado.info()"
   ]
  },
  {
   "cell_type": "code",
   "execution_count": 86,
   "id": "6036a115-5a78-473b-89b3-52e3b3e62ffb",
   "metadata": {},
   "outputs": [],
   "source": [
    "# Escribe excel en nivel 3\n",
    "\n",
    "# Eliminar duplicados 2016\n",
    "dfTerrazaClean2016 = dfTerrazasSeleccionado[dfTerrazasSeleccionado['ANIO'].isin([2016])]\n",
    "dfTerrazaClean2016 = dfTerrazaClean2016.drop_duplicates(subset=['LATITUD_T', 'LONGITUD_T'])\n",
    "\n",
    "# Eliminar duplicados 2018\n",
    "dfTerrazaClean2018 = dfTerrazasSeleccionado[dfTerrazasSeleccionado['ANIO'].isin([2018])]\n",
    "dfTerrazaClean2018 = dfTerrazaClean2018.drop_duplicates(subset=['LATITUD_T', 'LONGITUD_T'])\n",
    "\n",
    "# Eliminar duplicados 2019\n",
    "dfTerrazaClean2019 = dfTerrazasSeleccionado[dfTerrazasSeleccionado['ANIO'].isin([2019])]\n",
    "dfTerrazaClean2019 = dfTerrazaClean2019.drop_duplicates(subset=['LATITUD_T', 'LONGITUD_T'])\n",
    "\n",
    "dfTerrazaCleanSelect = pd.DataFrame()\n",
    "lstFrames = [dfTerrazaClean2016, dfTerrazaClean2018, dfTerrazaClean2019]\n",
    "dfTerrazaCleanSelect = pd.concat(lstFrames)\n",
    "\n",
    "# Contea datset numero de hospedajes por barrio y anio\n",
    "dfTerrazaClean = dfTerrazaCleanSelect.groupby(['COD_DISBAR', 'BARRIOS', 'ANIO']).size().reset_index(name='NRO_TERRAZAS')\n",
    "dfTerrazaClean = dfTerrazaClean.astype({\"COD_DISBAR\":'int'}) \n",
    "\n",
    "dfHospedajeClean.to_csv('../../data_preprocesada_N3/clean_terrazas_barrios.csv', index=False)\n"
   ]
  },
  {
   "cell_type": "code",
   "execution_count": null,
   "id": "c2a8edf7-f1e6-4bee-8048-ec2daa336dec",
   "metadata": {},
   "outputs": [],
   "source": []
  }
 ],
 "metadata": {
  "kernelspec": {
   "display_name": "Python 3 (ipykernel)",
   "language": "python",
   "name": "python3"
  },
  "language_info": {
   "codemirror_mode": {
    "name": "ipython",
    "version": 3
   },
   "file_extension": ".py",
   "mimetype": "text/x-python",
   "name": "python",
   "nbconvert_exporter": "python",
   "pygments_lexer": "ipython3",
   "version": "3.9.7"
  }
 },
 "nbformat": 4,
 "nbformat_minor": 5
}
